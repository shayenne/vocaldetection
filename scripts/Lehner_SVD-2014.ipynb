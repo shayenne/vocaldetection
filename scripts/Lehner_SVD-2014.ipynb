{
 "cells": [
  {
   "cell_type": "markdown",
   "metadata": {},
   "source": [
    "# Training and evaluating Singing Voice Detectors"
   ]
  },
  {
   "cell_type": "code",
   "execution_count": 1,
   "metadata": {},
   "outputs": [],
   "source": [
    "import sys\n",
    "sys.path.append('../vocaldetection/')\n",
    "import sklearn\n",
    "import utils\n",
    "import json\n",
    "import os\n",
    "import pandas as pd\n",
    "import numpy as np\n",
    "import seaborn as sns\n",
    "import librosa\n",
    "import arff, numpy as np\n",
    "import matplotlib.pyplot as plt\n",
    "%matplotlib inline"
   ]
  },
  {
   "cell_type": "markdown",
   "metadata": {},
   "source": [
    "I know that the best parameters for training SVM and RF on this dataset are C=0.1 for SVM and nE=100 for RF. [WHY??]\n",
    "\n",
    "Then, I can just train the models with these parameters and see how the results on confusion changes.\n",
    "\n",
    "For each set of descriptors, I can do a cross validation evaluation and see the accuracy for each classifier.\n",
    "\n",
    "Then, I select the greater accuracy to be my reference of ceiling confusion."
   ]
  },
  {
   "cell_type": "code",
   "execution_count": 2,
   "metadata": {},
   "outputs": [],
   "source": [
    "features = ['MFCC','VV','FL','SC','SF']"
   ]
  },
  {
   "cell_type": "code",
   "execution_count": 3,
   "metadata": {},
   "outputs": [],
   "source": [
    "labels = ['absent','present']"
   ]
  },
  {
   "cell_type": "code",
   "execution_count": 4,
   "metadata": {},
   "outputs": [],
   "source": [
    "# Path for features calculated with Lehner Code\n",
    "f = '/media/shayenne/CompMusHD/DATASETS/MedleyDB/AllMusics/ICASSP2014/ICASSP2014RNN/'\n",
    "# Read features and labels\n",
    "FEAT_PATH = os.environ[\"FEAT_PATH\"]\n",
    "AUDIO_PATH = os.environ[\"AUDIO_PATH\"]\n",
    "PIECES = os.environ[\"PIECES_JSON\"]"
   ]
  },
  {
   "cell_type": "markdown",
   "metadata": {},
   "source": [
    "### Calculate Vocal Variance Separated"
   ]
  },
  {
   "cell_type": "code",
   "execution_count": 11,
   "metadata": {},
   "outputs": [],
   "source": [
    "# vocal variance parameters \n",
    "FRAMESIZE = 2205\n",
    "HOPSIZE = 441\n",
    "SR = 22050\n",
    "# Function taken from https://github.com/kyungyunlee/ismir2018-revisiting-svd/blob/master/lehner_randomforest/vocal_var.py\n",
    "def vocal_var(audiofile):\n",
    "    ''' Compute vocal variance\n",
    "    '''\n",
    "    mfcc = librosa.feature.mfcc(audiofile, sr=SR, n_mfcc=30, n_fft=FRAMESIZE, hop_length=HOPSIZE, n_mels=128)\n",
    "    mfcc = mfcc.swapaxes(0, 1)\n",
    "    vv = np.empty([len(mfcc), 5])\n",
    "    for i in range(len(mfcc)):\n",
    "        for j in range(5):\n",
    "            vv[i][j] = np.var(mfcc[max(0, i - 5): min(len(mfcc), i + 6), j + 1])\n",
    "    return vv"
   ]
  },
  {
   "cell_type": "code",
   "execution_count": 5,
   "metadata": {},
   "outputs": [],
   "source": [
    "music_files = []\n",
    "\n",
    "with open(PIECES) as json_file:  \n",
    "    data = json.load(json_file)\n",
    "    \n",
    "    for music in data.keys():\n",
    "        music_files.append(music)"
   ]
  },
  {
   "cell_type": "code",
   "execution_count": 10,
   "metadata": {},
   "outputs": [
    {
     "name": "stdout",
     "output_type": "stream",
     "text": [
      "/media/shayenne/CompMusHD/DATASETS/MedleyDB/AllMusics/ICASSP2014/ICASSP2014RNN/AClassicEducation_NightOwl_MIX.arff\n",
      "(8573, 5)\n",
      "8572\n",
      "8572\n",
      "/media/shayenne/CompMusHD/DATASETS/MedleyDB/AllMusics/ICASSP2014/ICASSP2014RNN/AimeeNorwich_Child_MIX.arff\n",
      "(9464, 5)\n",
      "18035\n",
      "18035\n",
      "/media/shayenne/CompMusHD/DATASETS/MedleyDB/AllMusics/ICASSP2014/ICASSP2014RNN/AlexanderRoss_GoodbyeBolero_MIX.arff\n",
      "(20941, 5)\n",
      "38975\n",
      "38975\n",
      "/media/shayenne/CompMusHD/DATASETS/MedleyDB/AllMusics/ICASSP2014/ICASSP2014RNN/AlexanderRoss_VelvetCurtain_MIX.arff\n",
      "(25725, 5)\n",
      "64699\n",
      "64699\n",
      "/media/shayenne/CompMusHD/DATASETS/MedleyDB/AllMusics/ICASSP2014/ICASSP2014RNN/Auctioneer_OurFutureFaces_MIX.arff\n",
      "(10395, 5)\n",
      "75093\n",
      "75093\n",
      "/media/shayenne/CompMusHD/DATASETS/MedleyDB/AllMusics/ICASSP2014/ICASSP2014RNN/AvaLuna_Waterduct_MIX.arff\n",
      "(12966, 5)\n",
      "88058\n",
      "88058\n",
      "/media/shayenne/CompMusHD/DATASETS/MedleyDB/AllMusics/ICASSP2014/ICASSP2014RNN/BigTroubles_Phantom_MIX.arff\n",
      "(7347, 5)\n",
      "95404\n",
      "95404\n",
      "/media/shayenne/CompMusHD/DATASETS/MedleyDB/AllMusics/ICASSP2014/ICASSP2014RNN/BrandonWebster_DontHearAThing_MIX.arff\n",
      "(8583, 5)\n",
      "103986\n",
      "103986\n",
      "/media/shayenne/CompMusHD/DATASETS/MedleyDB/AllMusics/ICASSP2014/ICASSP2014RNN/BrandonWebster_YesSirICanFly_MIX.arff\n",
      "(4983, 5)\n",
      "108968\n",
      "108968\n",
      "/media/shayenne/CompMusHD/DATASETS/MedleyDB/AllMusics/ICASSP2014/ICASSP2014RNN/CelestialShore_DieForUs_MIX.arff\n",
      "(13934, 5)\n",
      "122901\n",
      "122901\n",
      "/media/shayenne/CompMusHD/DATASETS/MedleyDB/AllMusics/ICASSP2014/ICASSP2014RNN/ClaraBerryAndWooldog_AirTraffic_MIX.arff\n",
      "(8673, 5)\n",
      "131573\n",
      "131573\n",
      "/media/shayenne/CompMusHD/DATASETS/MedleyDB/AllMusics/ICASSP2014/ICASSP2014RNN/ClaraBerryAndWooldog_Boys_MIX.arff\n",
      "(7674, 5)\n",
      "139246\n",
      "139246\n",
      "/media/shayenne/CompMusHD/DATASETS/MedleyDB/AllMusics/ICASSP2014/ICASSP2014RNN/ClaraBerryAndWooldog_Stella_MIX.arff\n",
      "(9788, 5)\n",
      "149033\n",
      "149033\n",
      "/media/shayenne/CompMusHD/DATASETS/MedleyDB/AllMusics/ICASSP2014/ICASSP2014RNN/ClaraBerryAndWooldog_TheBadGuys_MIX.arff\n",
      "(12735, 5)\n",
      "161767\n",
      "161767\n",
      "/media/shayenne/CompMusHD/DATASETS/MedleyDB/AllMusics/ICASSP2014/ICASSP2014RNN/ClaraBerryAndWooldog_WaltzForMyVictims_MIX.arff\n",
      "(8772, 5)\n",
      "170538\n",
      "170538\n",
      "/media/shayenne/CompMusHD/DATASETS/MedleyDB/AllMusics/ICASSP2014/ICASSP2014RNN/Creepoid_OldTree_MIX.arff\n",
      "(15111, 5)\n",
      "185648\n",
      "185648\n",
      "/media/shayenne/CompMusHD/DATASETS/MedleyDB/AllMusics/ICASSP2014/ICASSP2014RNN/Debussy_LenfantProdigue_MIX.arff\n",
      "(11177, 5)\n",
      "196824\n",
      "196824\n",
      "/media/shayenne/CompMusHD/DATASETS/MedleyDB/AllMusics/ICASSP2014/ICASSP2014RNN/DreamersOfTheGhetto_HeavyLove_MIX.arff\n",
      "(14750, 5)\n",
      "211573\n",
      "211573\n",
      "/media/shayenne/CompMusHD/DATASETS/MedleyDB/AllMusics/ICASSP2014/ICASSP2014RNN/FacesOnFilm_WaitingForGa_MIX.arff\n",
      "(12882, 5)\n",
      "224454\n",
      "224454\n",
      "/media/shayenne/CompMusHD/DATASETS/MedleyDB/AllMusics/ICASSP2014/ICASSP2014RNN/FamilyBand_Again_MIX.arff\n",
      "(10065, 5)\n",
      "234518\n",
      "234518\n",
      "/media/shayenne/CompMusHD/DATASETS/MedleyDB/AllMusics/ICASSP2014/ICASSP2014RNN/Grants_PunchDrunk_MIX.arff\n",
      "(10231, 5)\n",
      "244748\n",
      "244748\n",
      "/media/shayenne/CompMusHD/DATASETS/MedleyDB/AllMusics/ICASSP2014/ICASSP2014RNN/Handel_TornamiAVagheggiar_MIX.arff\n",
      "(11151, 5)\n",
      "255898\n",
      "255898\n",
      "/media/shayenne/CompMusHD/DATASETS/MedleyDB/AllMusics/ICASSP2014/ICASSP2014RNN/HeladoNegro_MitadDelMundo_MIX.arff\n",
      "(9093, 5)\n",
      "264990\n",
      "264990\n",
      "/media/shayenne/CompMusHD/DATASETS/MedleyDB/AllMusics/ICASSP2014/ICASSP2014RNN/HezekiahJones_BorrowedHeart_MIX.arff\n",
      "(12079, 5)\n",
      "277068\n",
      "277068\n",
      "/media/shayenne/CompMusHD/DATASETS/MedleyDB/AllMusics/ICASSP2014/ICASSP2014RNN/HopAlong_SisterCities_MIX.arff\n",
      "(14172, 5)\n",
      "291239\n",
      "291239\n",
      "/media/shayenne/CompMusHD/DATASETS/MedleyDB/AllMusics/ICASSP2014/ICASSP2014RNN/InvisibleFamiliars_DisturbingWildlife_MIX.arff\n",
      "(10935, 5)\n",
      "302173\n",
      "302173\n",
      "/media/shayenne/CompMusHD/DATASETS/MedleyDB/AllMusics/ICASSP2014/ICASSP2014RNN/LizNelson_Coldwar_MIX.arff\n",
      "(8500, 5)\n",
      "310672\n",
      "310672\n",
      "/media/shayenne/CompMusHD/DATASETS/MedleyDB/AllMusics/ICASSP2014/ICASSP2014RNN/LizNelson_ImComingHome_MIX.arff\n",
      "(8985, 5)\n",
      "319656\n",
      "319656\n",
      "/media/shayenne/CompMusHD/DATASETS/MedleyDB/AllMusics/ICASSP2014/ICASSP2014RNN/LizNelson_Rainfall_MIX.arff\n",
      "(14246, 5)\n",
      "333901\n",
      "333901\n",
      "/media/shayenne/CompMusHD/DATASETS/MedleyDB/AllMusics/ICASSP2014/ICASSP2014RNN/Lushlife_ToynbeeSuite_MIX.arff\n",
      "(31428, 5)\n",
      "365328\n",
      "365328\n",
      "/media/shayenne/CompMusHD/DATASETS/MedleyDB/AllMusics/ICASSP2014/ICASSP2014RNN/MatthewEntwistle_DontYouEver_MIX.arff\n",
      "(5701, 5)\n",
      "371028\n",
      "371028\n",
      "/media/shayenne/CompMusHD/DATASETS/MedleyDB/AllMusics/ICASSP2014/ICASSP2014RNN/MatthewEntwistle_Lontano_MIX.arff\n",
      "(14900, 5)\n",
      "385928\n",
      "385928\n",
      "/media/shayenne/CompMusHD/DATASETS/MedleyDB/AllMusics/ICASSP2014/ICASSP2014RNN/Meaxic_TakeAStep_MIX.arff\n",
      "(14136, 5)\n",
      "400063\n",
      "400063\n",
      "/media/shayenne/CompMusHD/DATASETS/MedleyDB/AllMusics/ICASSP2014/ICASSP2014RNN/Meaxic_YouListen_MIX.arff\n",
      "(20636, 5)\n",
      "420698\n",
      "420698\n",
      "/media/shayenne/CompMusHD/DATASETS/MedleyDB/AllMusics/ICASSP2014/ICASSP2014RNN/Mozart_BesterJungling_MIX.arff\n",
      "(8707, 5)\n",
      "429404\n",
      "429404\n",
      "/media/shayenne/CompMusHD/DATASETS/MedleyDB/AllMusics/ICASSP2014/ICASSP2014RNN/Mozart_DiesBildnis_MIX.arff\n",
      "(11457, 5)\n",
      "440860\n",
      "440860\n",
      "/media/shayenne/CompMusHD/DATASETS/MedleyDB/AllMusics/ICASSP2014/ICASSP2014RNN/MusicDelta_80sRock_MIX.arff\n",
      "(1846, 5)\n",
      "442705\n",
      "442705\n",
      "/media/shayenne/CompMusHD/DATASETS/MedleyDB/AllMusics/ICASSP2014/ICASSP2014RNN/MusicDelta_Beatles_MIX.arff\n",
      "(1819, 5)\n",
      "444523\n",
      "444523\n",
      "/media/shayenne/CompMusHD/DATASETS/MedleyDB/AllMusics/ICASSP2014/ICASSP2014RNN/MusicDelta_Britpop_MIX.arff\n",
      "(1840, 5)\n",
      "446362\n",
      "446362\n",
      "/media/shayenne/CompMusHD/DATASETS/MedleyDB/AllMusics/ICASSP2014/ICASSP2014RNN/MusicDelta_Country1_MIX.arff\n",
      "(1738, 5)\n",
      "448099\n",
      "448099\n",
      "/media/shayenne/CompMusHD/DATASETS/MedleyDB/AllMusics/ICASSP2014/ICASSP2014RNN/MusicDelta_Country2_MIX.arff\n",
      "(873, 5)\n",
      "448971\n",
      "448971\n",
      "/media/shayenne/CompMusHD/DATASETS/MedleyDB/AllMusics/ICASSP2014/ICASSP2014RNN/MusicDelta_Disco_MIX.arff\n",
      "(6239, 5)\n",
      "455209\n",
      "455209\n",
      "/media/shayenne/CompMusHD/DATASETS/MedleyDB/AllMusics/ICASSP2014/ICASSP2014RNN/MusicDelta_Gospel_MIX.arff\n",
      "(3787, 5)\n",
      "458995\n",
      "458995\n",
      "/media/shayenne/CompMusHD/DATASETS/MedleyDB/AllMusics/ICASSP2014/ICASSP2014RNN/MusicDelta_Grunge_MIX.arff\n",
      "(2093, 5)\n",
      "461087\n",
      "461087\n",
      "/media/shayenne/CompMusHD/DATASETS/MedleyDB/AllMusics/ICASSP2014/ICASSP2014RNN/MusicDelta_Hendrix_MIX.arff\n",
      "(993, 5)\n",
      "462079\n",
      "462079\n",
      "/media/shayenne/CompMusHD/DATASETS/MedleyDB/AllMusics/ICASSP2014/ICASSP2014RNN/MusicDelta_Punk_MIX.arff\n",
      "(1439, 5)\n",
      "463517\n",
      "463517\n",
      "/media/shayenne/CompMusHD/DATASETS/MedleyDB/AllMusics/ICASSP2014/ICASSP2014RNN/MusicDelta_Reggae_MIX.arff\n",
      "(874, 5)\n",
      "464390\n",
      "464390\n",
      "/media/shayenne/CompMusHD/DATASETS/MedleyDB/AllMusics/ICASSP2014/ICASSP2014RNN/MusicDelta_Rock_MIX.arff\n",
      "(655, 5)\n",
      "465044\n",
      "465044\n",
      "/media/shayenne/CompMusHD/DATASETS/MedleyDB/AllMusics/ICASSP2014/ICASSP2014RNN/MusicDelta_Rockabilly_MIX.arff\n",
      "(1298, 5)\n",
      "466341\n",
      "466341\n",
      "/media/shayenne/CompMusHD/DATASETS/MedleyDB/AllMusics/ICASSP2014/ICASSP2014RNN/NightPanther_Fire_MIX.arff\n",
      "(10650, 5)\n",
      "476990\n",
      "476990\n",
      "/media/shayenne/CompMusHD/DATASETS/MedleyDB/AllMusics/ICASSP2014/ICASSP2014RNN/PortStWillow_StayEven_MIX.arff\n",
      "(15851, 5)\n",
      "492840\n",
      "492840\n",
      "/media/shayenne/CompMusHD/DATASETS/MedleyDB/AllMusics/ICASSP2014/ICASSP2014RNN/PurlingHiss_Lolita_MIX.arff\n",
      "(12812, 5)\n",
      "505651\n",
      "505651\n",
      "/media/shayenne/CompMusHD/DATASETS/MedleyDB/AllMusics/ICASSP2014/ICASSP2014RNN/Schubert_Erstarrung_MIX.arff\n",
      "(8695, 5)\n",
      "514345\n",
      "514345\n",
      "/media/shayenne/CompMusHD/DATASETS/MedleyDB/AllMusics/ICASSP2014/ICASSP2014RNN/Schumann_Mignon_MIX.arff\n",
      "(13142, 5)\n",
      "527486\n",
      "527486\n",
      "/media/shayenne/CompMusHD/DATASETS/MedleyDB/AllMusics/ICASSP2014/ICASSP2014RNN/SecretMountains_HighHorse_MIX.arff\n",
      "(17776, 5)\n",
      "545261\n",
      "545261\n",
      "/media/shayenne/CompMusHD/DATASETS/MedleyDB/AllMusics/ICASSP2014/ICASSP2014RNN/Snowmine_Curfews_MIX.arff\n",
      "(13760, 5)\n",
      "559020\n",
      "559020\n",
      "/media/shayenne/CompMusHD/DATASETS/MedleyDB/AllMusics/ICASSP2014/ICASSP2014RNN/StevenClark_Bounty_MIX.arff\n",
      "(14474, 5)\n",
      "573493\n",
      "573493\n",
      "/media/shayenne/CompMusHD/DATASETS/MedleyDB/AllMusics/ICASSP2014/ICASSP2014RNN/StrandOfOaks_Spacestation_MIX.arff\n",
      "(12194, 5)\n",
      "585686\n",
      "585686\n",
      "/media/shayenne/CompMusHD/DATASETS/MedleyDB/AllMusics/ICASSP2014/ICASSP2014RNN/SweetLights_YouLetMeDown_MIX.arff\n",
      "(19600, 5)\n",
      "605285\n",
      "605285\n",
      "/media/shayenne/CompMusHD/DATASETS/MedleyDB/AllMusics/ICASSP2014/ICASSP2014RNN/TheDistricts_Vermont_MIX.arff\n",
      "(11408, 5)\n",
      "616692\n",
      "616692\n",
      "File not found:  /media/shayenne/CompMusHD/DATASETS/MedleyDB/AllMusics/ICASSP2014/ICASSP2014RNN/TheScarletBrand_LesFleursDuMal_MIX.arff\n",
      "File not found:  /media/shayenne/CompMusHD/DATASETS/MedleyDB/AllMusics/ICASSP2014/ICASSP2014RNN/TheSoSoGlos_Emergency_MIX.arff\n",
      "File not found:  /media/shayenne/CompMusHD/DATASETS/MedleyDB/AllMusics/ICASSP2014/ICASSP2014RNN/Wolf_DieBekherte_MIX.arff\n"
     ]
    }
   ],
   "source": [
    "train_features = []\n",
    "train_labels = []\n",
    "\n",
    "for tf in music_files:\n",
    "    try:\n",
    "        dataset = arff.load(open(f+tf+'_MIX.arff', 'r'))\n",
    "        data = np.array(dataset['data'])\n",
    "        print (f+tf+'_MIX.arff')\n",
    "    except FileNotFoundError:\n",
    "        print ('File not found: ',f+tf+'_MIX.arff')\n",
    "        continue\n",
    "\n",
    "    # Calculate VV because it is not included on Lehner feature pack\n",
    "    #audiofile, _ = librosa.load(AUDIO_PATH+tf+'/'+tf+'_MIX.wav', sr=SR)\n",
    "    vv=lbl = np.load(FEAT_PATH+tf+\"_vv_lee.npy\")\n",
    "    print (vv.shape)\n",
    "    lbl = np.load(FEAT_PATH+tf+\"_labels_20ms.npy\")\n",
    "    \n",
    "    feature_vector = []\n",
    "    for idx in range(len(lbl)):\n",
    "        feature_vector.append(np.concatenate((data[idx], vv[idx]), axis=0))\n",
    "        #feature_vector.append(data[idx])\n",
    "        \n",
    "    # Store the feature vector and corresponding label in integer format\n",
    "    for idx in range(len(feature_vector)):\n",
    "        train_features.append(feature_vector[idx])\n",
    "        train_labels.append(lbl[idx])\n",
    "        \n",
    "    print (len(train_features))\n",
    "    print (len(train_labels))\n"
   ]
  },
  {
   "cell_type": "code",
   "execution_count": 11,
   "metadata": {},
   "outputs": [],
   "source": [
    "X = np.array(train_features)\n",
    "y = np.array(train_labels)"
   ]
  },
  {
   "cell_type": "code",
   "execution_count": 12,
   "metadata": {},
   "outputs": [
    {
     "name": "stdout",
     "output_type": "stream",
     "text": [
      "0.6815038949751253\n"
     ]
    }
   ],
   "source": [
    "# Percentage of singing voice frames on dataset\n",
    "print (sum(y)/len(X))"
   ]
  },
  {
   "cell_type": "code",
   "execution_count": 13,
   "metadata": {},
   "outputs": [],
   "source": [
    "# Split dataset into train, validation and test sets"
   ]
  },
  {
   "cell_type": "code",
   "execution_count": 14,
   "metadata": {},
   "outputs": [
    {
     "data": {
      "text/plain": [
       "2"
      ]
     },
     "execution_count": 14,
     "metadata": {},
     "output_type": "execute_result"
    }
   ],
   "source": [
    "from sklearn.model_selection import StratifiedKFold # import KFold\n",
    "seed = 7\n",
    "kf = StratifiedKFold(n_splits=2, random_state=seed) # Define the split - into 2 folds \n",
    "kf.get_n_splits(X) # returns the number of splitting iterations in the cross-validator"
   ]
  },
  {
   "cell_type": "code",
   "execution_count": null,
   "metadata": {},
   "outputs": [],
   "source": []
  },
  {
   "cell_type": "code",
   "execution_count": 15,
   "metadata": {},
   "outputs": [
    {
     "name": "stdout",
     "output_type": "stream",
     "text": [
      "TRAIN: [296471 296472 296473 ... 616689 616690 616691] TEST: [     0      1      2 ... 311436 311437 311438]\n",
      "TRAIN: [     0      1      2 ... 311436 311437 311438] TEST: [296471 296472 296473 ... 616689 616690 616691]\n"
     ]
    }
   ],
   "source": [
    "for train_index, test_index in kf.split(X,y):\n",
    "    print(\"TRAIN:\", train_index, \"TEST:\", test_index)\n",
    "    X_train, X_test = X[train_index], X[test_index]\n",
    "    y_train, y_test = y[train_index], y[test_index]"
   ]
  },
  {
   "cell_type": "code",
   "execution_count": null,
   "metadata": {},
   "outputs": [],
   "source": []
  },
  {
   "cell_type": "code",
   "execution_count": 16,
   "metadata": {},
   "outputs": [],
   "source": [
    "# Fit models\n",
    "\n",
    "# Evaluate models"
   ]
  },
  {
   "cell_type": "code",
   "execution_count": 17,
   "metadata": {},
   "outputs": [],
   "source": [
    "def plot_cm(cm):\n",
    "    fig, ax = plt.subplots()\n",
    "    ax.imshow(cm, interpolation='nearest', cmap='gray')\n",
    "    for i, line in enumerate(cm):\n",
    "        for j, l in enumerate(line):\n",
    "            ax.text(j, i, l, size=20, color='green')\n",
    "    ax.set_xticks(range(len(cm)))\n",
    "    ax.set_xticklabels(labels)\n",
    "    ax.set_yticks(range(len(cm)))\n",
    "    ax.set_yticklabels(labels)\n",
    "    ax.set_ylabel('True label')\n",
    "    ax.set_xlabel('Predicted label')\n",
    "    plt.show()"
   ]
  },
  {
   "cell_type": "code",
   "execution_count": 18,
   "metadata": {},
   "outputs": [
    {
     "data": {
      "text/plain": [
       "(616692, 116)"
      ]
     },
     "execution_count": 18,
     "metadata": {},
     "output_type": "execute_result"
    }
   ],
   "source": [
    "X.shape"
   ]
  },
  {
   "cell_type": "code",
   "execution_count": null,
   "metadata": {},
   "outputs": [],
   "source": []
  },
  {
   "cell_type": "markdown",
   "metadata": {},
   "source": [
    "# SVM with scaler"
   ]
  },
  {
   "cell_type": "code",
   "execution_count": 25,
   "metadata": {},
   "outputs": [],
   "source": [
    "# save the scaler to disk\n",
    "#filename = 'scaler_features.sav'\n",
    "#joblib.dump(scaler, filename)"
   ]
  },
  {
   "cell_type": "code",
   "execution_count": 26,
   "metadata": {},
   "outputs": [],
   "source": [
    "# EU COLOCARIA GRIDSEARCH mas acabei de notar que este método não faz uso do Scaler... Isso vale a pena?"
   ]
  },
  {
   "cell_type": "code",
   "execution_count": null,
   "metadata": {},
   "outputs": [
    {
     "name": "stdout",
     "output_type": "stream",
     "text": [
      "TRAIN: [182664 182665 182666 ... 365325 365326 365327] TEST: [     0      1      2 ... 182661 182662 182663]\n"
     ]
    }
   ],
   "source": [
    "# Use scikit-learn to train a model with the training features we've extracted\n",
    "from sklearn.svm import SVC\n",
    "import pandas as pd\n",
    "import joblib\n",
    "\n",
    "results_svm = pd.DataFrame(columns=['classifier','parameter','accuracy', 'cm', 'features'])\n",
    "\n",
    "classifier = 'SVM'\n",
    "features = 'MFCC'\n",
    "\n",
    "n_split = 0\n",
    "\n",
    "for train_index, test_index in kf.split(X):    \n",
    "    n_split += 1\n",
    "    print(\"TRAIN:\", train_index, \"TEST:\", test_index)\n",
    "    X_train, X_test = X[train_index], X[test_index]\n",
    "    y_train, y_test = y[train_index], y[test_index]\n",
    "\n",
    "    # Create a scale object\n",
    "    scaler = sklearn.preprocessing.StandardScaler()\n",
    "\n",
    "    # Learn the parameters from the training data only\n",
    "    scaler.fit(X_train)\n",
    "\n",
    "    # Apply the learned parameters to the training and test sets:\n",
    "    train_features_scaled = scaler.fit_transform(X_train)\n",
    "\n",
    "    test_features_scaled = scaler.transform(X_test)\n",
    "    \n",
    "    # Lets use a SVC with folowing C parameters: \n",
    "    params = [0.1] #[1, 0.1, 0.01, 0.001]\n",
    "\n",
    "    for c in params:\n",
    "        clf = SVC(C=c)\n",
    "\n",
    "        # Fit (=train) the model\n",
    "        clf.fit(train_features_scaled, y_train)\n",
    "\n",
    "        filename = 'finalized_model_'+classifier+'_'+str(c)+'_'+features+'_'+str(n_split)+'.sav'\n",
    "        print (filename)\n",
    "        joblib.dump(clf, filename)\n",
    "\n",
    "        # Now lets predict the labels of the test data!\n",
    "        predictions = clf.predict(test_features_scaled)\n",
    "        # SVM Accuracy\n",
    "        accuracy = sklearn.metrics.accuracy_score(y_test, predictions)\n",
    "\n",
    "        # lets compute the show the confusion matrix:\n",
    "        cm = sklearn.metrics.confusion_matrix(y_test, predictions)\n",
    "        \n",
    "        results_svm.loc[results_svm.index.max() + 1] = [classifier, c, accuracy, cm, features]\n"
   ]
  },
  {
   "cell_type": "code",
   "execution_count": null,
   "metadata": {},
   "outputs": [],
   "source": []
  },
  {
   "cell_type": "code",
   "execution_count": null,
   "metadata": {},
   "outputs": [],
   "source": [
    "results_svm.to_pickle('results_svm.pkl')"
   ]
  },
  {
   "cell_type": "code",
   "execution_count": null,
   "metadata": {},
   "outputs": [],
   "source": []
  },
  {
   "cell_type": "code",
   "execution_count": 47,
   "metadata": {},
   "outputs": [
    {
     "name": "stdout",
     "output_type": "stream",
     "text": [
      "0.7894931557528672\n",
      "[[ 403  265]\n",
      " [ 304 1731]]\n"
     ]
    },
    {
     "data": {
      "image/png": "[encoded data removed]",
      "text/plain": [
       "<Figure size 432x288 with 1 Axes>"
      ]
     },
     "metadata": {
      "needs_background": "light"
     },
     "output_type": "display_data"
    },
    {
     "name": "stdout",
     "output_type": "stream",
     "text": [
      "0.8087310395856456\n",
      "[[ 408  260]\n",
      " [ 257 1778]]\n"
     ]
    },
    {
     "data": {
      "image/png": "[encoded data removed]",
      "text/plain": [
       "<Figure size 432x288 with 1 Axes>"
      ]
     },
     "metadata": {
      "needs_background": "light"
     },
     "output_type": "display_data"
    },
    {
     "name": "stdout",
     "output_type": "stream",
     "text": [
      "0.8435072142064373\n",
      "[[ 465  203]\n",
      " [ 220 1815]]\n"
     ]
    },
    {
     "data": {
      "image/png": "[encoded data removed]",
      "text/plain": [
       "<Figure size 432x288 with 1 Axes>"
      ]
     },
     "metadata": {
      "needs_background": "light"
     },
     "output_type": "display_data"
    },
    {
     "name": "stdout",
     "output_type": "stream",
     "text": [
      "0.808361080281169\n",
      "[[ 285  383]\n",
      " [ 135 1900]]\n"
     ]
    },
    {
     "data": {
      "image/png": "[encoded data removed]",
      "text/plain": [
       "<Figure size 432x288 with 1 Axes>"
      ]
     },
     "metadata": {
      "needs_background": "light"
     },
     "output_type": "display_data"
    },
    {
     "name": "stdout",
     "output_type": "stream",
     "text": [
      "0.7528671846096929\n",
      "[[   0  668]\n",
      " [   0 2035]]\n"
     ]
    },
    {
     "data": {
      "image/png": "[encoded data removed]",
      "text/plain": [
       "<Figure size 432x288 with 1 Axes>"
      ]
     },
     "metadata": {
      "needs_background": "light"
     },
     "output_type": "display_data"
    }
   ],
   "source": [
    "# Use scikit-learn to train a model with the training features we've extracted\n",
    "from sklearn.svm import SVC\n",
    "# Lets use a SVC with folowing C parameters: \n",
    "params = [10, 1, 0.1, 0.01, 0.001]\n",
    "\n",
    "for c in params:\n",
    "    clf = SVC(C=c)\n",
    "\n",
    "    # Fit (=train) the model\n",
    "    clf.fit(train_features_scaled, y_train)\n",
    "    \n",
    "    # save the model to disk\n",
    "    #filename = 'finalized_model_SVM_'+str(c)+'_VGGish.sav'\n",
    "    #print (filename)\n",
    "    #joblib.dump(clf, filename)\n",
    "    \n",
    "    # Now lets predict the labels of the test data!\n",
    "    predictions = clf.predict(test_features_scaled)\n",
    "    # SVM Accuracy\n",
    "    accuracy = sklearn.metrics.accuracy_score(y_test, predictions)\n",
    "    print(accuracy)\n",
    "    \n",
    "    # lets compute the show the confusion matrix:\n",
    "    cm = sklearn.metrics.confusion_matrix(y_test, predictions)\n",
    "    print(cm)\n",
    "    \n",
    "    plot_cm(cm)"
   ]
  },
  {
   "cell_type": "code",
   "execution_count": null,
   "metadata": {},
   "outputs": [],
   "source": [
    "# Now lets predict the labels of the test data!\n",
    "predictions = clf.predict(test_features_scaled)"
   ]
  },
  {
   "cell_type": "code",
   "execution_count": null,
   "metadata": {},
   "outputs": [],
   "source": [
    "# Biased Guess Accuracy\n",
    "ones = np.ones(len(predictions))\n",
    "accuracy = sklearn.metrics.accuracy_score(y_test, ones)\n",
    "print(accuracy)"
   ]
  },
  {
   "cell_type": "code",
   "execution_count": null,
   "metadata": {},
   "outputs": [],
   "source": [
    "# SVM Accuracy\n",
    "accuracy = sklearn.metrics.accuracy_score(y_test, predictions)\n",
    "print(accuracy)"
   ]
  },
  {
   "cell_type": "code",
   "execution_count": null,
   "metadata": {},
   "outputs": [],
   "source": [
    "# lets compute the show the confusion matrix:\n",
    "cm = sklearn.metrics.confusion_matrix(y_test, predictions)\n",
    "print(cm)"
   ]
  },
  {
   "cell_type": "markdown",
   "metadata": {},
   "source": [
    "### Random Forest Classifier without scaler"
   ]
  },
  {
   "cell_type": "code",
   "execution_count": null,
   "metadata": {},
   "outputs": [
    {
     "name": "stdout",
     "output_type": "stream",
     "text": [
      "TRAIN: [296471 296472 296473 ... 616689 616690 616691] TEST: [     0      1      2 ... 311436 311437 311438]\n"
     ]
    }
   ],
   "source": [
    "# Use scikit-learn to train a model with the training features we've extracted\n",
    "from sklearn.ensemble import RandomForestClassifier\n",
    "\n",
    "results_rf = pd.DataFrame(columns=['classifier','parameter','accuracy', 'cm', 'features'])\n",
    "\n",
    "classifier = 'RF'\n",
    "features = 'MFCC, VV, FL'\n",
    "\n",
    "for train_index, test_index in kf.split(X,y):\n",
    "\n",
    "\n",
    "    print(\"TRAIN:\", train_index, \"TEST:\", test_index)\n",
    "    X_train, X_test = X[train_index], X[test_index]\n",
    "    y_train, y_test = y[train_index], y[test_index]\n",
    "\n",
    "    params = [100]#[10, 20, 50, 100]\n",
    "\n",
    "    for estimators in params:\n",
    "        clf3 = RandomForestClassifier(n_estimators=estimators)\n",
    "\n",
    "        # Fit (=train) the model\n",
    "        clf3.fit(X_train, y_train)\n",
    "\n",
    "        # save the model to disk\n",
    "        #filename = 'finalized_model_RF_'+str(estimators)+'_'+features+'_'+str(n_split)+'.sav'\n",
    "        #print (filename)\n",
    "        #joblib.dump(clf3, filename)\n",
    "\n",
    "        # Now lets predict the labels of the test data!\n",
    "        predictions = clf3.predict(X_test)\n",
    "        # We can use sklearn to compute the accuracy score\n",
    "        accuracy = sklearn.metrics.accuracy_score(y_test, predictions)\n",
    "        print(accuracy)\n",
    "\n",
    "        # lets compute the show the confusion matrix:\n",
    "        cm = sklearn.metrics.confusion_matrix(y_test, predictions)\n",
    "        print(cm)\n",
    "        \n",
    "        results_rf.loc[results_rf.index.max() + 1] = [classifier, estimators, accuracy, cm, features]"
   ]
  },
  {
   "cell_type": "code",
   "execution_count": 31,
   "metadata": {},
   "outputs": [
    {
     "data": {
      "text/html": [
       "<div>\n",
       "<style scoped>\n",
       "    .dataframe tbody tr th:only-of-type {\n",
       "        vertical-align: middle;\n",
       "    }\n",
       "\n",
       "    .dataframe tbody tr th {\n",
       "        vertical-align: top;\n",
       "    }\n",
       "\n",
       "    .dataframe thead th {\n",
       "        text-align: right;\n",
       "    }\n",
       "</style>\n",
       "<table border=\"1\" class=\"dataframe\">\n",
       "  <thead>\n",
       "    <tr style=\"text-align: right;\">\n",
       "      <th></th>\n",
       "      <th>classifier</th>\n",
       "      <th>parameter</th>\n",
       "      <th>accuracy</th>\n",
       "      <th>cm</th>\n",
       "      <th>features</th>\n",
       "    </tr>\n",
       "  </thead>\n",
       "  <tbody>\n",
       "    <tr>\n",
       "      <th>NaN</th>\n",
       "      <td>RF</td>\n",
       "      <td>100</td>\n",
       "      <td>0.730955</td>\n",
       "      <td>[[16555, 32063], [7115, 89886]]</td>\n",
       "      <td>MFCC, VV, FL</td>\n",
       "    </tr>\n",
       "  </tbody>\n",
       "</table>\n",
       "</div>"
      ],
      "text/plain": [
       "    classifier  parameter  accuracy                               cm  \\\n",
       "NaN         RF        100  0.730955  [[16555, 32063], [7115, 89886]]   \n",
       "\n",
       "         features  \n",
       "NaN  MFCC, VV, FL  "
      ]
     },
     "execution_count": 31,
     "metadata": {},
     "output_type": "execute_result"
    }
   ],
   "source": [
    "results_rf"
   ]
  },
  {
   "cell_type": "code",
   "execution_count": 23,
   "metadata": {},
   "outputs": [],
   "source": [
    "results_rf.to_pickle('results_random_forest_m-v-f.pkl')"
   ]
  },
  {
   "cell_type": "code",
   "execution_count": 24,
   "metadata": {},
   "outputs": [],
   "source": [
    "results_rf = pd.read_pickle('results_random_forest.pkl')\n",
    "results_rf_3 = pd.read_pickle('results_random_forest_m-v-f.pkl')"
   ]
  },
  {
   "cell_type": "code",
   "execution_count": 32,
   "metadata": {},
   "outputs": [
    {
     "data": {
      "text/html": [
       "<div>\n",
       "<style scoped>\n",
       "    .dataframe tbody tr th:only-of-type {\n",
       "        vertical-align: middle;\n",
       "    }\n",
       "\n",
       "    .dataframe tbody tr th {\n",
       "        vertical-align: top;\n",
       "    }\n",
       "\n",
       "    .dataframe thead th {\n",
       "        text-align: right;\n",
       "    }\n",
       "</style>\n",
       "<table border=\"1\" class=\"dataframe\">\n",
       "  <thead>\n",
       "    <tr style=\"text-align: right;\">\n",
       "      <th></th>\n",
       "      <th>classifier</th>\n",
       "      <th>parameter</th>\n",
       "      <th>accuracy</th>\n",
       "      <th>cm</th>\n",
       "      <th>features</th>\n",
       "    </tr>\n",
       "  </thead>\n",
       "  <tbody>\n",
       "    <tr>\n",
       "      <th>0</th>\n",
       "      <td>RF</td>\n",
       "      <td>10</td>\n",
       "      <td>0.744083</td>\n",
       "      <td>[[545, 573], [119, 1467]]</td>\n",
       "      <td>MFCC</td>\n",
       "    </tr>\n",
       "    <tr>\n",
       "      <th>1</th>\n",
       "      <td>RF</td>\n",
       "      <td>20</td>\n",
       "      <td>0.745192</td>\n",
       "      <td>[[503, 615], [74, 1512]]</td>\n",
       "      <td>MFCC</td>\n",
       "    </tr>\n",
       "    <tr>\n",
       "      <th>2</th>\n",
       "      <td>RF</td>\n",
       "      <td>50</td>\n",
       "      <td>0.735207</td>\n",
       "      <td>[[465, 653], [63, 1523]]</td>\n",
       "      <td>MFCC</td>\n",
       "    </tr>\n",
       "    <tr>\n",
       "      <th>3</th>\n",
       "      <td>RF</td>\n",
       "      <td>100</td>\n",
       "      <td>0.744453</td>\n",
       "      <td>[[467, 651], [40, 1546]]</td>\n",
       "      <td>MFCC</td>\n",
       "    </tr>\n",
       "    <tr>\n",
       "      <th>4</th>\n",
       "      <td>RF</td>\n",
       "      <td>10</td>\n",
       "      <td>0.765533</td>\n",
       "      <td>[[508, 490], [144, 1562]]</td>\n",
       "      <td>MFCC</td>\n",
       "    </tr>\n",
       "    <tr>\n",
       "      <th>5</th>\n",
       "      <td>RF</td>\n",
       "      <td>20</td>\n",
       "      <td>0.728920</td>\n",
       "      <td>[[423, 575], [158, 1548]]</td>\n",
       "      <td>MFCC</td>\n",
       "    </tr>\n",
       "    <tr>\n",
       "      <th>6</th>\n",
       "      <td>RF</td>\n",
       "      <td>50</td>\n",
       "      <td>0.735577</td>\n",
       "      <td>[[414, 584], [131, 1575]]</td>\n",
       "      <td>MFCC</td>\n",
       "    </tr>\n",
       "    <tr>\n",
       "      <th>7</th>\n",
       "      <td>RF</td>\n",
       "      <td>100</td>\n",
       "      <td>0.732618</td>\n",
       "      <td>[[398, 600], [123, 1583]]</td>\n",
       "      <td>MFCC</td>\n",
       "    </tr>\n",
       "    <tr>\n",
       "      <th>8</th>\n",
       "      <td>RF</td>\n",
       "      <td>10</td>\n",
       "      <td>0.786243</td>\n",
       "      <td>[[707, 166], [412, 1419]]</td>\n",
       "      <td>MFCC</td>\n",
       "    </tr>\n",
       "    <tr>\n",
       "      <th>9</th>\n",
       "      <td>RF</td>\n",
       "      <td>20</td>\n",
       "      <td>0.796598</td>\n",
       "      <td>[[729, 144], [406, 1425]]</td>\n",
       "      <td>MFCC</td>\n",
       "    </tr>\n",
       "    <tr>\n",
       "      <th>10</th>\n",
       "      <td>RF</td>\n",
       "      <td>50</td>\n",
       "      <td>0.810651</td>\n",
       "      <td>[[722, 151], [361, 1470]]</td>\n",
       "      <td>MFCC</td>\n",
       "    </tr>\n",
       "    <tr>\n",
       "      <th>11</th>\n",
       "      <td>RF</td>\n",
       "      <td>100</td>\n",
       "      <td>0.813609</td>\n",
       "      <td>[[726, 147], [357, 1474]]</td>\n",
       "      <td>MFCC</td>\n",
       "    </tr>\n",
       "    <tr>\n",
       "      <th>12</th>\n",
       "      <td>RF</td>\n",
       "      <td>10</td>\n",
       "      <td>0.790311</td>\n",
       "      <td>[[301, 359], [208, 1836]]</td>\n",
       "      <td>MFCC</td>\n",
       "    </tr>\n",
       "    <tr>\n",
       "      <th>13</th>\n",
       "      <td>RF</td>\n",
       "      <td>20</td>\n",
       "      <td>0.798447</td>\n",
       "      <td>[[294, 366], [179, 1865]]</td>\n",
       "      <td>MFCC</td>\n",
       "    </tr>\n",
       "    <tr>\n",
       "      <th>14</th>\n",
       "      <td>RF</td>\n",
       "      <td>50</td>\n",
       "      <td>0.811021</td>\n",
       "      <td>[[278, 382], [129, 1915]]</td>\n",
       "      <td>MFCC</td>\n",
       "    </tr>\n",
       "    <tr>\n",
       "      <th>15</th>\n",
       "      <td>RF</td>\n",
       "      <td>100</td>\n",
       "      <td>0.808062</td>\n",
       "      <td>[[265, 395], [124, 1920]]</td>\n",
       "      <td>MFCC</td>\n",
       "    </tr>\n",
       "    <tr>\n",
       "      <th>16</th>\n",
       "      <td>RF</td>\n",
       "      <td>10</td>\n",
       "      <td>0.822855</td>\n",
       "      <td>[[338, 243], [236, 1887]]</td>\n",
       "      <td>MFCC</td>\n",
       "    </tr>\n",
       "    <tr>\n",
       "      <th>17</th>\n",
       "      <td>RF</td>\n",
       "      <td>20</td>\n",
       "      <td>0.863905</td>\n",
       "      <td>[[368, 213], [155, 1968]]</td>\n",
       "      <td>MFCC</td>\n",
       "    </tr>\n",
       "    <tr>\n",
       "      <th>18</th>\n",
       "      <td>RF</td>\n",
       "      <td>50</td>\n",
       "      <td>0.875000</td>\n",
       "      <td>[[352, 229], [109, 2014]]</td>\n",
       "      <td>MFCC</td>\n",
       "    </tr>\n",
       "    <tr>\n",
       "      <th>19</th>\n",
       "      <td>RF</td>\n",
       "      <td>100</td>\n",
       "      <td>0.877219</td>\n",
       "      <td>[[355, 226], [106, 2017]]</td>\n",
       "      <td>MFCC</td>\n",
       "    </tr>\n",
       "    <tr>\n",
       "      <th>20</th>\n",
       "      <td>RF</td>\n",
       "      <td>10</td>\n",
       "      <td>0.773669</td>\n",
       "      <td>[[792, 398], [214, 1300]]</td>\n",
       "      <td>MFCC</td>\n",
       "    </tr>\n",
       "    <tr>\n",
       "      <th>21</th>\n",
       "      <td>RF</td>\n",
       "      <td>20</td>\n",
       "      <td>0.752589</td>\n",
       "      <td>[[749, 441], [228, 1286]]</td>\n",
       "      <td>MFCC</td>\n",
       "    </tr>\n",
       "    <tr>\n",
       "      <th>22</th>\n",
       "      <td>RF</td>\n",
       "      <td>50</td>\n",
       "      <td>0.755917</td>\n",
       "      <td>[[741, 449], [211, 1303]]</td>\n",
       "      <td>MFCC</td>\n",
       "    </tr>\n",
       "    <tr>\n",
       "      <th>23</th>\n",
       "      <td>RF</td>\n",
       "      <td>100</td>\n",
       "      <td>0.758876</td>\n",
       "      <td>[[741, 449], [203, 1311]]</td>\n",
       "      <td>MFCC</td>\n",
       "    </tr>\n",
       "    <tr>\n",
       "      <th>24</th>\n",
       "      <td>RF</td>\n",
       "      <td>10</td>\n",
       "      <td>0.842086</td>\n",
       "      <td>[[590, 230], [197, 1687]]</td>\n",
       "      <td>MFCC</td>\n",
       "    </tr>\n",
       "    <tr>\n",
       "      <th>25</th>\n",
       "      <td>RF</td>\n",
       "      <td>20</td>\n",
       "      <td>0.865754</td>\n",
       "      <td>[[584, 236], [127, 1757]]</td>\n",
       "      <td>MFCC</td>\n",
       "    </tr>\n",
       "    <tr>\n",
       "      <th>26</th>\n",
       "      <td>RF</td>\n",
       "      <td>50</td>\n",
       "      <td>0.865385</td>\n",
       "      <td>[[559, 261], [103, 1781]]</td>\n",
       "      <td>MFCC</td>\n",
       "    </tr>\n",
       "    <tr>\n",
       "      <th>27</th>\n",
       "      <td>RF</td>\n",
       "      <td>100</td>\n",
       "      <td>0.873891</td>\n",
       "      <td>[[576, 244], [97, 1787]]</td>\n",
       "      <td>MFCC</td>\n",
       "    </tr>\n",
       "    <tr>\n",
       "      <th>28</th>\n",
       "      <td>RF</td>\n",
       "      <td>10</td>\n",
       "      <td>0.764793</td>\n",
       "      <td>[[376, 391], [245, 1692]]</td>\n",
       "      <td>MFCC</td>\n",
       "    </tr>\n",
       "    <tr>\n",
       "      <th>29</th>\n",
       "      <td>RF</td>\n",
       "      <td>20</td>\n",
       "      <td>0.786243</td>\n",
       "      <td>[[362, 405], [173, 1764]]</td>\n",
       "      <td>MFCC</td>\n",
       "    </tr>\n",
       "    <tr>\n",
       "      <th>30</th>\n",
       "      <td>RF</td>\n",
       "      <td>50</td>\n",
       "      <td>0.790311</td>\n",
       "      <td>[[328, 439], [128, 1809]]</td>\n",
       "      <td>MFCC</td>\n",
       "    </tr>\n",
       "    <tr>\n",
       "      <th>31</th>\n",
       "      <td>RF</td>\n",
       "      <td>100</td>\n",
       "      <td>0.791050</td>\n",
       "      <td>[[310, 457], [108, 1829]]</td>\n",
       "      <td>MFCC</td>\n",
       "    </tr>\n",
       "    <tr>\n",
       "      <th>32</th>\n",
       "      <td>RF</td>\n",
       "      <td>10</td>\n",
       "      <td>0.759246</td>\n",
       "      <td>[[489, 365], [286, 1564]]</td>\n",
       "      <td>MFCC</td>\n",
       "    </tr>\n",
       "    <tr>\n",
       "      <th>33</th>\n",
       "      <td>RF</td>\n",
       "      <td>20</td>\n",
       "      <td>0.760355</td>\n",
       "      <td>[[447, 407], [241, 1609]]</td>\n",
       "      <td>MFCC</td>\n",
       "    </tr>\n",
       "    <tr>\n",
       "      <th>34</th>\n",
       "      <td>RF</td>\n",
       "      <td>50</td>\n",
       "      <td>0.772189</td>\n",
       "      <td>[[450, 404], [212, 1638]]</td>\n",
       "      <td>MFCC</td>\n",
       "    </tr>\n",
       "    <tr>\n",
       "      <th>35</th>\n",
       "      <td>RF</td>\n",
       "      <td>100</td>\n",
       "      <td>0.783284</td>\n",
       "      <td>[[452, 402], [184, 1666]]</td>\n",
       "      <td>MFCC</td>\n",
       "    </tr>\n",
       "    <tr>\n",
       "      <th>36</th>\n",
       "      <td>RF</td>\n",
       "      <td>10</td>\n",
       "      <td>0.790973</td>\n",
       "      <td>[[417, 251], [314, 1721]]</td>\n",
       "      <td>MFCC</td>\n",
       "    </tr>\n",
       "    <tr>\n",
       "      <th>37</th>\n",
       "      <td>RF</td>\n",
       "      <td>20</td>\n",
       "      <td>0.793563</td>\n",
       "      <td>[[388, 280], [278, 1757]]</td>\n",
       "      <td>MFCC</td>\n",
       "    </tr>\n",
       "    <tr>\n",
       "      <th>38</th>\n",
       "      <td>RF</td>\n",
       "      <td>50</td>\n",
       "      <td>0.819830</td>\n",
       "      <td>[[399, 269], [218, 1817]]</td>\n",
       "      <td>MFCC</td>\n",
       "    </tr>\n",
       "    <tr>\n",
       "      <th>39</th>\n",
       "      <td>RF</td>\n",
       "      <td>100</td>\n",
       "      <td>0.822420</td>\n",
       "      <td>[[400, 268], [212, 1823]]</td>\n",
       "      <td>MFCC</td>\n",
       "    </tr>\n",
       "  </tbody>\n",
       "</table>\n",
       "</div>"
      ],
      "text/plain": [
       "   classifier parameter  accuracy                         cm features\n",
       "0          RF        10  0.744083  [[545, 573], [119, 1467]]     MFCC\n",
       "1          RF        20  0.745192   [[503, 615], [74, 1512]]     MFCC\n",
       "2          RF        50  0.735207   [[465, 653], [63, 1523]]     MFCC\n",
       "3          RF       100  0.744453   [[467, 651], [40, 1546]]     MFCC\n",
       "4          RF        10  0.765533  [[508, 490], [144, 1562]]     MFCC\n",
       "5          RF        20  0.728920  [[423, 575], [158, 1548]]     MFCC\n",
       "6          RF        50  0.735577  [[414, 584], [131, 1575]]     MFCC\n",
       "7          RF       100  0.732618  [[398, 600], [123, 1583]]     MFCC\n",
       "8          RF        10  0.786243  [[707, 166], [412, 1419]]     MFCC\n",
       "9          RF        20  0.796598  [[729, 144], [406, 1425]]     MFCC\n",
       "10         RF        50  0.810651  [[722, 151], [361, 1470]]     MFCC\n",
       "11         RF       100  0.813609  [[726, 147], [357, 1474]]     MFCC\n",
       "12         RF        10  0.790311  [[301, 359], [208, 1836]]     MFCC\n",
       "13         RF        20  0.798447  [[294, 366], [179, 1865]]     MFCC\n",
       "14         RF        50  0.811021  [[278, 382], [129, 1915]]     MFCC\n",
       "15         RF       100  0.808062  [[265, 395], [124, 1920]]     MFCC\n",
       "16         RF        10  0.822855  [[338, 243], [236, 1887]]     MFCC\n",
       "17         RF        20  0.863905  [[368, 213], [155, 1968]]     MFCC\n",
       "18         RF        50  0.875000  [[352, 229], [109, 2014]]     MFCC\n",
       "19         RF       100  0.877219  [[355, 226], [106, 2017]]     MFCC\n",
       "20         RF        10  0.773669  [[792, 398], [214, 1300]]     MFCC\n",
       "21         RF        20  0.752589  [[749, 441], [228, 1286]]     MFCC\n",
       "22         RF        50  0.755917  [[741, 449], [211, 1303]]     MFCC\n",
       "23         RF       100  0.758876  [[741, 449], [203, 1311]]     MFCC\n",
       "24         RF        10  0.842086  [[590, 230], [197, 1687]]     MFCC\n",
       "25         RF        20  0.865754  [[584, 236], [127, 1757]]     MFCC\n",
       "26         RF        50  0.865385  [[559, 261], [103, 1781]]     MFCC\n",
       "27         RF       100  0.873891   [[576, 244], [97, 1787]]     MFCC\n",
       "28         RF        10  0.764793  [[376, 391], [245, 1692]]     MFCC\n",
       "29         RF        20  0.786243  [[362, 405], [173, 1764]]     MFCC\n",
       "30         RF        50  0.790311  [[328, 439], [128, 1809]]     MFCC\n",
       "31         RF       100  0.791050  [[310, 457], [108, 1829]]     MFCC\n",
       "32         RF        10  0.759246  [[489, 365], [286, 1564]]     MFCC\n",
       "33         RF        20  0.760355  [[447, 407], [241, 1609]]     MFCC\n",
       "34         RF        50  0.772189  [[450, 404], [212, 1638]]     MFCC\n",
       "35         RF       100  0.783284  [[452, 402], [184, 1666]]     MFCC\n",
       "36         RF        10  0.790973  [[417, 251], [314, 1721]]     MFCC\n",
       "37         RF        20  0.793563  [[388, 280], [278, 1757]]     MFCC\n",
       "38         RF        50  0.819830  [[399, 269], [218, 1817]]     MFCC\n",
       "39         RF       100  0.822420  [[400, 268], [212, 1823]]     MFCC"
      ]
     },
     "execution_count": 32,
     "metadata": {},
     "output_type": "execute_result"
    }
   ],
   "source": [
    "results_rf"
   ]
  },
  {
   "cell_type": "code",
   "execution_count": 30,
   "metadata": {},
   "outputs": [
    {
     "data": {
      "image/png": "[encoded data removed]",
      "text/plain": [
       "<Figure size 432x288 with 1 Axes>"
      ]
     },
     "metadata": {
      "needs_background": "light"
     },
     "output_type": "display_data"
    },
    {
     "data": {
      "text/plain": [
       "[(0.6, 1.0)]"
      ]
     },
     "execution_count": 30,
     "metadata": {},
     "output_type": "execute_result"
    },
    {
     "data": {
      "image/png": "[encoded data removed]",
      "text/plain": [
       "<Figure size 432x288 with 1 Axes>"
      ]
     },
     "metadata": {
      "needs_background": "light"
     },
     "output_type": "display_data"
    }
   ],
   "source": [
    "import seaborn as sns \n",
    "ax = sns.boxplot(x=\"parameter\", y=\"accuracy\", data=results_rf)\n",
    "plt.show()\n",
    "ax = sns.boxplot(x=\"parameter\", y=\"accuracy\", data=results_rf_3)\n",
    "ax.set(ylim=(.60, 1.00))"
   ]
  },
  {
   "cell_type": "code",
   "execution_count": 17,
   "metadata": {},
   "outputs": [
    {
     "name": "stdout",
     "output_type": "stream",
     "text": [
      "0.7920828708842027\n",
      "[[ 419  249]\n",
      " [ 313 1722]]\n"
     ]
    },
    {
     "data": {
      "image/png": "[encoded data removed]",
      "text/plain": [
       "<Figure size 432x288 with 1 Axes>"
      ]
     },
     "metadata": {
      "needs_background": "light"
     },
     "output_type": "display_data"
    },
    {
     "name": "stdout",
     "output_type": "stream",
     "text": [
      "0.8079911209766926\n",
      "[[ 416  252]\n",
      " [ 267 1768]]\n"
     ]
    },
    {
     "data": {
      "image/png": "[encoded data removed]",
      "text/plain": [
       "<Figure size 432x288 with 1 Axes>"
      ]
     },
     "metadata": {
      "needs_background": "light"
     },
     "output_type": "display_data"
    },
    {
     "name": "stdout",
     "output_type": "stream",
     "text": [
      "0.8161302256751757\n",
      "[[ 395  273]\n",
      " [ 224 1811]]\n"
     ]
    },
    {
     "data": {
      "image/png": "[encoded data removed]",
      "text/plain": [
       "<Figure size 432x288 with 1 Axes>"
      ]
     },
     "metadata": {
      "needs_background": "light"
     },
     "output_type": "display_data"
    },
    {
     "name": "stdout",
     "output_type": "stream",
     "text": [
      "0.8205697373288938\n",
      "[[ 394  274]\n",
      " [ 211 1824]]\n"
     ]
    },
    {
     "data": {
      "image/png": "[encoded data removed]",
      "text/plain": [
       "<Figure size 432x288 with 1 Axes>"
      ]
     },
     "metadata": {
      "needs_background": "light"
     },
     "output_type": "display_data"
    }
   ],
   "source": [
    "from sklearn.ensemble import RandomForestClassifier\n",
    "\n",
    "params = [10, 20, 50, 100]\n",
    "\n",
    "for estimators in params:\n",
    "    clf3 = RandomForestClassifier(n_estimators=estimators)\n",
    "\n",
    "    # Fit (=train) the model\n",
    "    clf3.fit(X_train, y_train)\n",
    "    \n",
    "    # save the model to disk\n",
    "    #filename = 'finalized_model_RF_'+str(estimators)+'_VGGish.sav'\n",
    "    #print (filename)\n",
    "    #joblib.dump(clf3, filename)\n",
    "    \n",
    "    # Now lets predict the labels of the test data!\n",
    "    predictions = clf3.predict(X_test)\n",
    "    # We can use sklearn to compute the accuracy score\n",
    "    accuracy = sklearn.metrics.accuracy_score(y_test, predictions)\n",
    "    print(accuracy)\n",
    "    \n",
    "    # lets compute the show the confusion matrix:\n",
    "    cm = sklearn.metrics.confusion_matrix(y_test, predictions)\n",
    "    print(cm)\n",
    "    \n",
    "    plot_cm(cm)"
   ]
  },
  {
   "cell_type": "code",
   "execution_count": null,
   "metadata": {},
   "outputs": [],
   "source": [
    "# Now lets predict the labels of the test data!\n",
    "predictions = clf3.predict(X)"
   ]
  },
  {
   "cell_type": "code",
   "execution_count": null,
   "metadata": {},
   "outputs": [],
   "source": [
    "# We can use sklearn to compute the accuracy score\n",
    "accuracy = sklearn.metrics.accuracy_score(y, predictions)\n",
    "print(accuracy)"
   ]
  },
  {
   "cell_type": "code",
   "execution_count": null,
   "metadata": {},
   "outputs": [],
   "source": [
    "# lets compute the show the confusion matrix:\n",
    "cm = sklearn.metrics.confusion_matrix(y, predictions)\n",
    "print(cm)"
   ]
  },
  {
   "cell_type": "code",
   "execution_count": null,
   "metadata": {},
   "outputs": [],
   "source": [
    "fig, ax = plt.subplots()\n",
    "ax.imshow(cm, interpolation='nearest', cmap='gray')\n",
    "for i, line in enumerate(cm):\n",
    "    for j, l in enumerate(line):\n",
    "        ax.text(j, i, l, size=20, color='green')\n",
    "ax.set_xticks(range(len(cm)))\n",
    "ax.set_xticklabels(labels)\n",
    "ax.set_yticks(range(len(cm)))\n",
    "ax.set_yticklabels(labels)\n",
    "ax.set_ylabel('True label')\n",
    "ax.set_xlabel('Predicted label')\n",
    "plt.show()"
   ]
  },
  {
   "cell_type": "code",
   "execution_count": null,
   "metadata": {},
   "outputs": [],
   "source": [
    "# Evaluate with Precision, Recall and F-score"
   ]
  },
  {
   "cell_type": "code",
   "execution_count": null,
   "metadata": {},
   "outputs": [],
   "source": [
    "from sklearn.metrics import precision_recall_curve\n",
    "\n",
    "precision, recall, thresholds = precision_recall_curve(\n",
    "    y_test, predictions)\n"
   ]
  },
  {
   "cell_type": "code",
   "execution_count": null,
   "metadata": {},
   "outputs": [],
   "source": [
    "from inspect import signature\n",
    "from sklearn.metrics import average_precision_score\n",
    "average_precision = average_precision_score(y_test, predictions)\n",
    "\n",
    "# In matplotlib < 1.5, plt.fill_between does not have a 'step' argument\n",
    "step_kwargs = ({'step': 'post'}\n",
    "               if 'step' in signature(plt.fill_between).parameters\n",
    "               else {})\n",
    "plt.step(recall, precision, color='b', alpha=0.2,\n",
    "         where='post')\n",
    "plt.fill_between(recall, precision, alpha=0.2, color='b', **step_kwargs)\n",
    "\n",
    "plt.xlabel('Recall')\n",
    "plt.ylabel('Precision')\n",
    "plt.ylim([0.0, 1.05])\n",
    "plt.xlim([0.0, 1.0])\n",
    "plt.title('Singing Precision-Recall curve: AP={0:0.2f}'.format(\n",
    "          average_precision))\n"
   ]
  },
  {
   "cell_type": "code",
   "execution_count": null,
   "metadata": {},
   "outputs": [],
   "source": []
  }
 ],
 "metadata": {
  "kernelspec": {
   "display_name": "Python 3",
   "language": "python",
   "name": "python3"
  },
  "language_info": {
   "codemirror_mode": {
    "name": "ipython",
    "version": 3
   },
   "file_extension": ".py",
   "mimetype": "text/x-python",
   "name": "python",
   "nbconvert_exporter": "python",
   "pygments_lexer": "ipython3",
   "version": "3.7.3"
  }
 },
 "nbformat": 4,
 "nbformat_minor": 2
}
