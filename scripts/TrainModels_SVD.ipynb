{
 "cells": [
  {
   "cell_type": "code",
   "execution_count": 1,
   "metadata": {},
   "outputs": [],
   "source": [
    "import sys\n",
    "sys.path.append('../vocaldetection/')\n",
    "import sklearn\n",
    "import utils\n",
    "import json\n",
    "import os\n",
    "import pandas as pd\n",
    "import numpy as np"
   ]
  },
  {
   "cell_type": "code",
   "execution_count": 2,
   "metadata": {},
   "outputs": [],
   "source": [
    "# Read features and labels\n",
    "FEAT_PATH = os.environ[\"FEAT_PATH\"]\n",
    "PIECES = os.environ[\"PIECES_JSON\"]"
   ]
  },
  {
   "cell_type": "code",
   "execution_count": 3,
   "metadata": {},
   "outputs": [],
   "source": [
    "music_files = []\n",
    "\n",
    "with open(PIECES) as json_file:  \n",
    "    data = json.load(json_file)\n",
    "\n",
    "    for music in data.keys():\n",
    "        music_files.append(FEAT_PATH+music)"
   ]
  },
  {
   "cell_type": "code",
   "execution_count": 4,
   "metadata": {},
   "outputs": [],
   "source": [
    "train_features = []\n",
    "train_labels = []\n",
    "\n",
    "\n",
    "for tf in music_files:\n",
    "    # Load VGGish audio embeddings\n",
    "    #vggish = pd.read_csv(tf+\"_VGGish_PCA.csv\",index_col=None, header=None)\n",
    "    #vggish = vggish.values\n",
    "    \n",
    "    # Load MFCCs features\n",
    "    mfccs = pd.read_csv(tf+\"_mfcc.csv\",index_col=None, header=None)\n",
    "    mfccs = mfccs.values.T\n",
    "    \n",
    "    # Load VocalVariance features\n",
    "    vv = pd.read_csv(tf+\"_vocalvar.csv\",index_col=None, header=None)\n",
    "    vv = vv.values.T\n",
    "\n",
    "    # Read labels for each frame\n",
    "    labels = pd.read_csv(tf+\"_lbl.csv\",index_col=None, header=None)\n",
    "    labels = labels.values[0]\n",
    "    \n",
    "    feature_vector = []\n",
    "    for idx in range(len(labels)):\n",
    "        feature_vector.append(np.concatenate((mfccs[idx], vv[idx]), axis=0))\n",
    "        \n",
    "        \n",
    "    # Store the feature vector and corresponding label in integer format\n",
    "    for idx in range(len(feature_vector)):\n",
    "        train_features.append(feature_vector[idx])\n",
    "        train_labels.append(labels[idx])\n"
   ]
  },
  {
   "cell_type": "code",
   "execution_count": 17,
   "metadata": {},
   "outputs": [
    {
     "ename": "ValueError",
     "evalue": "could not convert string to float: '[ 1.07115547e+02 -3.47272873e+01  1.57313881e+01 -7.95158529e+00\\n  1.71852474e+01 -1.61360092e+01  1.72172463e+00  5.96364737e+00\\n -1.08871949e+00 -7.30616331e-01 -6.06386423e+00  1.73046386e+00\\n -1.50515115e+00  1.03846169e+01  9.42243099e+00  8.85262012e+00\\n  8.56095219e+00  7.02073193e+00  5.01579237e+00  5.14964819e+00\\n  3.47757244e+00  5.02254057e+00  3.22590995e+00  3.13083696e+00\\n  3.60949039e+00  3.08055925e+00  1.30667923e+02  1.69300842e+01\\n  3.14402905e+01  1.25162954e+01  2.96958160e+01 -7.04921961e-01\\n  1.21851339e+01  1.27911100e+01  9.26175213e+00  4.96795130e+00\\n  5.92182815e-01  1.05797224e+01  7.20575094e+00  1.07875473e+02\\n -3.68285027e+01  1.72950649e+01 -9.97012806e+00  1.90751572e+01\\n -1.62606220e+01  2.87016296e+00  5.67637873e+00 -1.13273811e+00\\n -4.24645036e-01 -6.02352333e+00  1.47536767e+00 -1.74072909e+00\\n  3.49201083e-01 -5.08942604e-01  4.30020332e-01  1.43476486e-01\\n  3.43437791e-01 -6.21106811e-02  1.20982766e-01 -3.85089107e-02\\n -7.71256462e-02 -1.20605947e-02  1.51589522e-02  6.24202304e-02\\n -1.00430615e-01  2.07596183e+00  1.97093976e+00  2.19190502e+00\\n  1.40669560e+00  1.43867981e+00  1.07035136e+00  7.99474537e-01\\n  7.67992258e-01  1.00446641e+00  5.48663020e-01  4.78475690e-01\\n  6.64392889e-01  6.26272857e-01 -2.44316086e-01  2.25022957e-01\\n  4.13378142e-02 -8.61457288e-02  8.00493464e-04 -5.60288541e-02\\n -2.29237378e-02  8.81611835e-03  3.66925821e-02  2.20298041e-02\\n  1.41591085e-02  3.10168713e-02  2.17252076e-02  1.22460318e+00\\n  9.01404917e-01  1.03150880e+00  6.10302329e-01  6.34482205e-01\\n  5.95952392e-01  4.19354916e-01  4.99122798e-01  4.45664912e-01\\n  4.04110759e-01  2.79076874e-01  4.12429392e-01  3.81416827e-01]'",
     "output_type": "error",
     "traceback": [
      "\u001b[0;31m---------------------------------------------------------------------------\u001b[0m",
      "\u001b[0;31mValueError\u001b[0m                                Traceback (most recent call last)",
      "\u001b[0;32m<ipython-input-17-053b0c1920c5>\u001b[0m in \u001b[0;36m<module>\u001b[0;34m\u001b[0m\n\u001b[0;32m----> 1\u001b[0;31m \u001b[0mX\u001b[0m \u001b[0;34m=\u001b[0m \u001b[0mnp\u001b[0m\u001b[0;34m.\u001b[0m\u001b[0marray\u001b[0m\u001b[0;34m(\u001b[0m\u001b[0mtrain_features\u001b[0m\u001b[0;34m)\u001b[0m\u001b[0;34m.\u001b[0m\u001b[0mastype\u001b[0m\u001b[0;34m(\u001b[0m\u001b[0mfloat\u001b[0m\u001b[0;34m)\u001b[0m\u001b[0;34m\u001b[0m\u001b[0;34m\u001b[0m\u001b[0m\n\u001b[0m\u001b[1;32m      2\u001b[0m \u001b[0my\u001b[0m \u001b[0;34m=\u001b[0m \u001b[0mnp\u001b[0m\u001b[0;34m.\u001b[0m\u001b[0marray\u001b[0m\u001b[0;34m(\u001b[0m\u001b[0mtrain_labels\u001b[0m\u001b[0;34m)\u001b[0m\u001b[0;34m\u001b[0m\u001b[0;34m\u001b[0m\u001b[0m\n",
      "\u001b[0;31mValueError\u001b[0m: could not convert string to float: '[ 1.07115547e+02 -3.47272873e+01  1.57313881e+01 -7.95158529e+00\\n  1.71852474e+01 -1.61360092e+01  1.72172463e+00  5.96364737e+00\\n -1.08871949e+00 -7.30616331e-01 -6.06386423e+00  1.73046386e+00\\n -1.50515115e+00  1.03846169e+01  9.42243099e+00  8.85262012e+00\\n  8.56095219e+00  7.02073193e+00  5.01579237e+00  5.14964819e+00\\n  3.47757244e+00  5.02254057e+00  3.22590995e+00  3.13083696e+00\\n  3.60949039e+00  3.08055925e+00  1.30667923e+02  1.69300842e+01\\n  3.14402905e+01  1.25162954e+01  2.96958160e+01 -7.04921961e-01\\n  1.21851339e+01  1.27911100e+01  9.26175213e+00  4.96795130e+00\\n  5.92182815e-01  1.05797224e+01  7.20575094e+00  1.07875473e+02\\n -3.68285027e+01  1.72950649e+01 -9.97012806e+00  1.90751572e+01\\n -1.62606220e+01  2.87016296e+00  5.67637873e+00 -1.13273811e+00\\n -4.24645036e-01 -6.02352333e+00  1.47536767e+00 -1.74072909e+00\\n  3.49201083e-01 -5.08942604e-01  4.30020332e-01  1.43476486e-01\\n  3.43437791e-01 -6.21106811e-02  1.20982766e-01 -3.85089107e-02\\n -7.71256462e-02 -1.20605947e-02  1.51589522e-02  6.24202304e-02\\n -1.00430615e-01  2.07596183e+00  1.97093976e+00  2.19190502e+00\\n  1.40669560e+00  1.43867981e+00  1.07035136e+00  7.99474537e-01\\n  7.67992258e-01  1.00446641e+00  5.48663020e-01  4.78475690e-01\\n  6.64392889e-01  6.26272857e-01 -2.44316086e-01  2.25022957e-01\\n  4.13378142e-02 -8.61457288e-02  8.00493464e-04 -5.60288541e-02\\n -2.29237378e-02  8.81611835e-03  3.66925821e-02  2.20298041e-02\\n  1.41591085e-02  3.10168713e-02  2.17252076e-02  1.22460318e+00\\n  9.01404917e-01  1.03150880e+00  6.10302329e-01  6.34482205e-01\\n  5.95952392e-01  4.19354916e-01  4.99122798e-01  4.45664912e-01\\n  4.04110759e-01  2.79076874e-01  4.12429392e-01  3.81416827e-01]'"
     ]
    }
   ],
   "source": [
    "X = np.array(train_features)\n",
    "y = np.array(train_labels)"
   ]
  },
  {
   "cell_type": "code",
   "execution_count": 6,
   "metadata": {},
   "outputs": [
    {
     "data": {
      "text/plain": [
       "array([1, 1, 1, ..., 0, 0, 0])"
      ]
     },
     "execution_count": 6,
     "metadata": {},
     "output_type": "execute_result"
    }
   ],
   "source": [
    "y"
   ]
  },
  {
   "cell_type": "code",
   "execution_count": 7,
   "metadata": {},
   "outputs": [],
   "source": [
    "# Split dataset into train, validation and test sets"
   ]
  },
  {
   "cell_type": "code",
   "execution_count": 8,
   "metadata": {},
   "outputs": [],
   "source": [
    "from sklearn.model_selection import train_test_split\n",
    "from matplotlib import pyplot as plt"
   ]
  },
  {
   "cell_type": "code",
   "execution_count": null,
   "metadata": {},
   "outputs": [],
   "source": []
  },
  {
   "cell_type": "code",
   "execution_count": 9,
   "metadata": {},
   "outputs": [],
   "source": [
    "X_train, X_test, y_train, y_test = train_test_split(\n",
    "    X, y, test_size=0.33, random_state=42)"
   ]
  },
  {
   "cell_type": "code",
   "execution_count": 10,
   "metadata": {},
   "outputs": [
    {
     "data": {
      "text/plain": [
       "10"
      ]
     },
     "execution_count": 10,
     "metadata": {},
     "output_type": "execute_result"
    }
   ],
   "source": [
    "from sklearn.model_selection import KFold # import KFold\n",
    "seed = 7\n",
    "kf = KFold(n_splits=10, random_state=seed) # Define the split - into 2 folds \n",
    "kf.get_n_splits(X) # returns the number of splitting iterations in the cross-validator"
   ]
  },
  {
   "cell_type": "code",
   "execution_count": 11,
   "metadata": {},
   "outputs": [
    {
     "name": "stdout",
     "output_type": "stream",
     "text": [
      "TRAIN: [ 2704  2705  2706 ... 27036 27037 27038] TEST: [   0    1    2 ... 2701 2702 2703]\n",
      "TRAIN: [    0     1     2 ... 27036 27037 27038] TEST: [2704 2705 2706 ... 5405 5406 5407]\n",
      "TRAIN: [    0     1     2 ... 27036 27037 27038] TEST: [5408 5409 5410 ... 8109 8110 8111]\n",
      "TRAIN: [    0     1     2 ... 27036 27037 27038] TEST: [ 8112  8113  8114 ... 10813 10814 10815]\n",
      "TRAIN: [    0     1     2 ... 27036 27037 27038] TEST: [10816 10817 10818 ... 13517 13518 13519]\n",
      "TRAIN: [    0     1     2 ... 27036 27037 27038] TEST: [13520 13521 13522 ... 16221 16222 16223]\n",
      "TRAIN: [    0     1     2 ... 27036 27037 27038] TEST: [16224 16225 16226 ... 18925 18926 18927]\n",
      "TRAIN: [    0     1     2 ... 27036 27037 27038] TEST: [18928 18929 18930 ... 21629 21630 21631]\n",
      "TRAIN: [    0     1     2 ... 27036 27037 27038] TEST: [21632 21633 21634 ... 24333 24334 24335]\n",
      "TRAIN: [    0     1     2 ... 24333 24334 24335] TEST: [24336 24337 24338 ... 27036 27037 27038]\n"
     ]
    }
   ],
   "source": [
    "for train_index, test_index in kf.split(X):\n",
    "    print(\"TRAIN:\", train_index, \"TEST:\", test_index)\n",
    "    X_train, X_test = X[train_index], X[test_index]\n",
    "    y_train, y_test = y[train_index], y[test_index]"
   ]
  },
  {
   "cell_type": "code",
   "execution_count": null,
   "metadata": {},
   "outputs": [],
   "source": []
  },
  {
   "cell_type": "code",
   "execution_count": 12,
   "metadata": {},
   "outputs": [],
   "source": [
    "# Fit models\n",
    "\n",
    "# Evaluate models"
   ]
  },
  {
   "cell_type": "code",
   "execution_count": 15,
   "metadata": {},
   "outputs": [
    {
     "data": {
      "text/plain": [
       "'[ 1.07115547e+02 -3.47272873e+01  1.57313881e+01 -7.95158529e+00\\n  1.71852474e+01 -1.61360092e+01  1.72172463e+00  5.96364737e+00\\n -1.08871949e+00 -7.30616331e-01 -6.06386423e+00  1.73046386e+00\\n -1.50515115e+00  1.03846169e+01  9.42243099e+00  8.85262012e+00\\n  8.56095219e+00  7.02073193e+00  5.01579237e+00  5.14964819e+00\\n  3.47757244e+00  5.02254057e+00  3.22590995e+00  3.13083696e+00\\n  3.60949039e+00  3.08055925e+00  1.30667923e+02  1.69300842e+01\\n  3.14402905e+01  1.25162954e+01  2.96958160e+01 -7.04921961e-01\\n  1.21851339e+01  1.27911100e+01  9.26175213e+00  4.96795130e+00\\n  5.92182815e-01  1.05797224e+01  7.20575094e+00  1.07875473e+02\\n -3.68285027e+01  1.72950649e+01 -9.97012806e+00  1.90751572e+01\\n -1.62606220e+01  2.87016296e+00  5.67637873e+00 -1.13273811e+00\\n -4.24645036e-01 -6.02352333e+00  1.47536767e+00 -1.74072909e+00\\n  3.49201083e-01 -5.08942604e-01  4.30020332e-01  1.43476486e-01\\n  3.43437791e-01 -6.21106811e-02  1.20982766e-01 -3.85089107e-02\\n -7.71256462e-02 -1.20605947e-02  1.51589522e-02  6.24202304e-02\\n -1.00430615e-01  2.07596183e+00  1.97093976e+00  2.19190502e+00\\n  1.40669560e+00  1.43867981e+00  1.07035136e+00  7.99474537e-01\\n  7.67992258e-01  1.00446641e+00  5.48663020e-01  4.78475690e-01\\n  6.64392889e-01  6.26272857e-01 -2.44316086e-01  2.25022957e-01\\n  4.13378142e-02 -8.61457288e-02  8.00493464e-04 -5.60288541e-02\\n -2.29237378e-02  8.81611835e-03  3.66925821e-02  2.20298041e-02\\n  1.41591085e-02  3.10168713e-02  2.17252076e-02  1.22460318e+00\\n  9.01404917e-01  1.03150880e+00  6.10302329e-01  6.34482205e-01\\n  5.95952392e-01  4.19354916e-01  4.99122798e-01  4.45664912e-01\\n  4.04110759e-01  2.79076874e-01  4.12429392e-01  3.81416827e-01]'"
      ]
     },
     "execution_count": 15,
     "metadata": {},
     "output_type": "execute_result"
    }
   ],
   "source": [
    "X[0][0]"
   ]
  },
  {
   "cell_type": "code",
   "execution_count": 13,
   "metadata": {},
   "outputs": [
    {
     "ename": "ValueError",
     "evalue": "could not convert string to float: '[ 1.07115547e+02 -3.47272873e+01  1.57313881e+01 -7.95158529e+00\\n  1.71852474e+01 -1.61360092e+01  1.72172463e+00  5.96364737e+00\\n -1.08871949e+00 -7.30616331e-01 -6.06386423e+00  1.73046386e+00\\n -1.50515115e+00  1.03846169e+01  9.42243099e+00  8.85262012e+00\\n  8.56095219e+00  7.02073193e+00  5.01579237e+00  5.14964819e+00\\n  3.47757244e+00  5.02254057e+00  3.22590995e+00  3.13083696e+00\\n  3.60949039e+00  3.08055925e+00  1.30667923e+02  1.69300842e+01\\n  3.14402905e+01  1.25162954e+01  2.96958160e+01 -7.04921961e-01\\n  1.21851339e+01  1.27911100e+01  9.26175213e+00  4.96795130e+00\\n  5.92182815e-01  1.05797224e+01  7.20575094e+00  1.07875473e+02\\n -3.68285027e+01  1.72950649e+01 -9.97012806e+00  1.90751572e+01\\n -1.62606220e+01  2.87016296e+00  5.67637873e+00 -1.13273811e+00\\n -4.24645036e-01 -6.02352333e+00  1.47536767e+00 -1.74072909e+00\\n  3.49201083e-01 -5.08942604e-01  4.30020332e-01  1.43476486e-01\\n  3.43437791e-01 -6.21106811e-02  1.20982766e-01 -3.85089107e-02\\n -7.71256462e-02 -1.20605947e-02  1.51589522e-02  6.24202304e-02\\n -1.00430615e-01  2.07596183e+00  1.97093976e+00  2.19190502e+00\\n  1.40669560e+00  1.43867981e+00  1.07035136e+00  7.99474537e-01\\n  7.67992258e-01  1.00446641e+00  5.48663020e-01  4.78475690e-01\\n  6.64392889e-01  6.26272857e-01 -2.44316086e-01  2.25022957e-01\\n  4.13378142e-02 -8.61457288e-02  8.00493464e-04 -5.60288541e-02\\n -2.29237378e-02  8.81611835e-03  3.66925821e-02  2.20298041e-02\\n  1.41591085e-02  3.10168713e-02  2.17252076e-02  1.22460318e+00\\n  9.01404917e-01  1.03150880e+00  6.10302329e-01  6.34482205e-01\\n  5.95952392e-01  4.19354916e-01  4.99122798e-01  4.45664912e-01\\n  4.04110759e-01  2.79076874e-01  4.12429392e-01  3.81416827e-01]'",
     "output_type": "error",
     "traceback": [
      "\u001b[0;31m---------------------------------------------------------------------------\u001b[0m",
      "\u001b[0;31mValueError\u001b[0m                                Traceback (most recent call last)",
      "\u001b[0;32m<ipython-input-13-419cb1ea95dd>\u001b[0m in \u001b[0;36m<module>\u001b[0;34m\u001b[0m\n\u001b[1;32m      3\u001b[0m \u001b[0;34m\u001b[0m\u001b[0m\n\u001b[1;32m      4\u001b[0m \u001b[0;31m# Learn the parameters from the training data only\u001b[0m\u001b[0;34m\u001b[0m\u001b[0;34m\u001b[0m\u001b[0;34m\u001b[0m\u001b[0m\n\u001b[0;32m----> 5\u001b[0;31m \u001b[0mscaler\u001b[0m\u001b[0;34m.\u001b[0m\u001b[0mfit\u001b[0m\u001b[0;34m(\u001b[0m\u001b[0mtrain_features\u001b[0m\u001b[0;34m)\u001b[0m\u001b[0;34m\u001b[0m\u001b[0;34m\u001b[0m\u001b[0m\n\u001b[0m\u001b[1;32m      6\u001b[0m \u001b[0;34m\u001b[0m\u001b[0m\n\u001b[1;32m      7\u001b[0m \u001b[0;31m# Apply the learned parameters to the training and test sets:\u001b[0m\u001b[0;34m\u001b[0m\u001b[0;34m\u001b[0m\u001b[0;34m\u001b[0m\u001b[0m\n",
      "\u001b[0;32m~/anaconda3/lib/python3.7/site-packages/sklearn/preprocessing/data.py\u001b[0m in \u001b[0;36mfit\u001b[0;34m(self, X, y)\u001b[0m\n\u001b[1;32m    637\u001b[0m         \u001b[0;31m# Reset internal state before fitting\u001b[0m\u001b[0;34m\u001b[0m\u001b[0;34m\u001b[0m\u001b[0;34m\u001b[0m\u001b[0m\n\u001b[1;32m    638\u001b[0m         \u001b[0mself\u001b[0m\u001b[0;34m.\u001b[0m\u001b[0m_reset\u001b[0m\u001b[0;34m(\u001b[0m\u001b[0;34m)\u001b[0m\u001b[0;34m\u001b[0m\u001b[0;34m\u001b[0m\u001b[0m\n\u001b[0;32m--> 639\u001b[0;31m         \u001b[0;32mreturn\u001b[0m \u001b[0mself\u001b[0m\u001b[0;34m.\u001b[0m\u001b[0mpartial_fit\u001b[0m\u001b[0;34m(\u001b[0m\u001b[0mX\u001b[0m\u001b[0;34m,\u001b[0m \u001b[0my\u001b[0m\u001b[0;34m)\u001b[0m\u001b[0;34m\u001b[0m\u001b[0;34m\u001b[0m\u001b[0m\n\u001b[0m\u001b[1;32m    640\u001b[0m \u001b[0;34m\u001b[0m\u001b[0m\n\u001b[1;32m    641\u001b[0m     \u001b[0;32mdef\u001b[0m \u001b[0mpartial_fit\u001b[0m\u001b[0;34m(\u001b[0m\u001b[0mself\u001b[0m\u001b[0;34m,\u001b[0m \u001b[0mX\u001b[0m\u001b[0;34m,\u001b[0m \u001b[0my\u001b[0m\u001b[0;34m=\u001b[0m\u001b[0;32mNone\u001b[0m\u001b[0;34m)\u001b[0m\u001b[0;34m:\u001b[0m\u001b[0;34m\u001b[0m\u001b[0;34m\u001b[0m\u001b[0m\n",
      "\u001b[0;32m~/anaconda3/lib/python3.7/site-packages/sklearn/preprocessing/data.py\u001b[0m in \u001b[0;36mpartial_fit\u001b[0;34m(self, X, y)\u001b[0m\n\u001b[1;32m    661\u001b[0m         X = check_array(X, accept_sparse=('csr', 'csc'), copy=self.copy,\n\u001b[1;32m    662\u001b[0m                         \u001b[0mestimator\u001b[0m\u001b[0;34m=\u001b[0m\u001b[0mself\u001b[0m\u001b[0;34m,\u001b[0m \u001b[0mdtype\u001b[0m\u001b[0;34m=\u001b[0m\u001b[0mFLOAT_DTYPES\u001b[0m\u001b[0;34m,\u001b[0m\u001b[0;34m\u001b[0m\u001b[0;34m\u001b[0m\u001b[0m\n\u001b[0;32m--> 663\u001b[0;31m                         force_all_finite='allow-nan')\n\u001b[0m\u001b[1;32m    664\u001b[0m \u001b[0;34m\u001b[0m\u001b[0m\n\u001b[1;32m    665\u001b[0m         \u001b[0;31m# Even in the case of `with_mean=False`, we update the mean anyway\u001b[0m\u001b[0;34m\u001b[0m\u001b[0;34m\u001b[0m\u001b[0;34m\u001b[0m\u001b[0m\n",
      "\u001b[0;32m~/anaconda3/lib/python3.7/site-packages/sklearn/utils/validation.py\u001b[0m in \u001b[0;36mcheck_array\u001b[0;34m(array, accept_sparse, accept_large_sparse, dtype, order, copy, force_all_finite, ensure_2d, allow_nd, ensure_min_samples, ensure_min_features, warn_on_dtype, estimator)\u001b[0m\n\u001b[1;32m    494\u001b[0m             \u001b[0;32mtry\u001b[0m\u001b[0;34m:\u001b[0m\u001b[0;34m\u001b[0m\u001b[0;34m\u001b[0m\u001b[0m\n\u001b[1;32m    495\u001b[0m                 \u001b[0mwarnings\u001b[0m\u001b[0;34m.\u001b[0m\u001b[0msimplefilter\u001b[0m\u001b[0;34m(\u001b[0m\u001b[0;34m'error'\u001b[0m\u001b[0;34m,\u001b[0m \u001b[0mComplexWarning\u001b[0m\u001b[0;34m)\u001b[0m\u001b[0;34m\u001b[0m\u001b[0;34m\u001b[0m\u001b[0m\n\u001b[0;32m--> 496\u001b[0;31m                 \u001b[0marray\u001b[0m \u001b[0;34m=\u001b[0m \u001b[0mnp\u001b[0m\u001b[0;34m.\u001b[0m\u001b[0masarray\u001b[0m\u001b[0;34m(\u001b[0m\u001b[0marray\u001b[0m\u001b[0;34m,\u001b[0m \u001b[0mdtype\u001b[0m\u001b[0;34m=\u001b[0m\u001b[0mdtype\u001b[0m\u001b[0;34m,\u001b[0m \u001b[0morder\u001b[0m\u001b[0;34m=\u001b[0m\u001b[0morder\u001b[0m\u001b[0;34m)\u001b[0m\u001b[0;34m\u001b[0m\u001b[0;34m\u001b[0m\u001b[0m\n\u001b[0m\u001b[1;32m    497\u001b[0m             \u001b[0;32mexcept\u001b[0m \u001b[0mComplexWarning\u001b[0m\u001b[0;34m:\u001b[0m\u001b[0;34m\u001b[0m\u001b[0;34m\u001b[0m\u001b[0m\n\u001b[1;32m    498\u001b[0m                 raise ValueError(\"Complex data not supported\\n\"\n",
      "\u001b[0;32m~/anaconda3/lib/python3.7/site-packages/numpy/core/numeric.py\u001b[0m in \u001b[0;36masarray\u001b[0;34m(a, dtype, order)\u001b[0m\n\u001b[1;32m    536\u001b[0m \u001b[0;34m\u001b[0m\u001b[0m\n\u001b[1;32m    537\u001b[0m     \"\"\"\n\u001b[0;32m--> 538\u001b[0;31m     \u001b[0;32mreturn\u001b[0m \u001b[0marray\u001b[0m\u001b[0;34m(\u001b[0m\u001b[0ma\u001b[0m\u001b[0;34m,\u001b[0m \u001b[0mdtype\u001b[0m\u001b[0;34m,\u001b[0m \u001b[0mcopy\u001b[0m\u001b[0;34m=\u001b[0m\u001b[0;32mFalse\u001b[0m\u001b[0;34m,\u001b[0m \u001b[0morder\u001b[0m\u001b[0;34m=\u001b[0m\u001b[0morder\u001b[0m\u001b[0;34m)\u001b[0m\u001b[0;34m\u001b[0m\u001b[0;34m\u001b[0m\u001b[0m\n\u001b[0m\u001b[1;32m    539\u001b[0m \u001b[0;34m\u001b[0m\u001b[0m\n\u001b[1;32m    540\u001b[0m \u001b[0;34m\u001b[0m\u001b[0m\n",
      "\u001b[0;31mValueError\u001b[0m: could not convert string to float: '[ 1.07115547e+02 -3.47272873e+01  1.57313881e+01 -7.95158529e+00\\n  1.71852474e+01 -1.61360092e+01  1.72172463e+00  5.96364737e+00\\n -1.08871949e+00 -7.30616331e-01 -6.06386423e+00  1.73046386e+00\\n -1.50515115e+00  1.03846169e+01  9.42243099e+00  8.85262012e+00\\n  8.56095219e+00  7.02073193e+00  5.01579237e+00  5.14964819e+00\\n  3.47757244e+00  5.02254057e+00  3.22590995e+00  3.13083696e+00\\n  3.60949039e+00  3.08055925e+00  1.30667923e+02  1.69300842e+01\\n  3.14402905e+01  1.25162954e+01  2.96958160e+01 -7.04921961e-01\\n  1.21851339e+01  1.27911100e+01  9.26175213e+00  4.96795130e+00\\n  5.92182815e-01  1.05797224e+01  7.20575094e+00  1.07875473e+02\\n -3.68285027e+01  1.72950649e+01 -9.97012806e+00  1.90751572e+01\\n -1.62606220e+01  2.87016296e+00  5.67637873e+00 -1.13273811e+00\\n -4.24645036e-01 -6.02352333e+00  1.47536767e+00 -1.74072909e+00\\n  3.49201083e-01 -5.08942604e-01  4.30020332e-01  1.43476486e-01\\n  3.43437791e-01 -6.21106811e-02  1.20982766e-01 -3.85089107e-02\\n -7.71256462e-02 -1.20605947e-02  1.51589522e-02  6.24202304e-02\\n -1.00430615e-01  2.07596183e+00  1.97093976e+00  2.19190502e+00\\n  1.40669560e+00  1.43867981e+00  1.07035136e+00  7.99474537e-01\\n  7.67992258e-01  1.00446641e+00  5.48663020e-01  4.78475690e-01\\n  6.64392889e-01  6.26272857e-01 -2.44316086e-01  2.25022957e-01\\n  4.13378142e-02 -8.61457288e-02  8.00493464e-04 -5.60288541e-02\\n -2.29237378e-02  8.81611835e-03  3.66925821e-02  2.20298041e-02\\n  1.41591085e-02  3.10168713e-02  2.17252076e-02  1.22460318e+00\\n  9.01404917e-01  1.03150880e+00  6.10302329e-01  6.34482205e-01\\n  5.95952392e-01  4.19354916e-01  4.99122798e-01  4.45664912e-01\\n  4.04110759e-01  2.79076874e-01  4.12429392e-01  3.81416827e-01]'"
     ]
    }
   ],
   "source": [
    "# Create a scale object\n",
    "scaler = sklearn.preprocessing.StandardScaler()\n",
    "\n",
    "# Learn the parameters from the training data only\n",
    "scaler.fit(train_features)\n",
    "\n",
    "# Apply the learned parameters to the training and test sets:\n",
    "train_features_scaled = scaler.transform(train_features)"
   ]
  },
  {
   "cell_type": "code",
   "execution_count": null,
   "metadata": {},
   "outputs": [],
   "source": [
    "test_features_scaled = scaler.transform(test_features)"
   ]
  },
  {
   "cell_type": "code",
   "execution_count": null,
   "metadata": {},
   "outputs": [],
   "source": [
    "# save the scaler to disk\n",
    "filename = 'scaler_features.sav'\n",
    "joblib.dump(scaler, filename)"
   ]
  },
  {
   "cell_type": "code",
   "execution_count": null,
   "metadata": {},
   "outputs": [],
   "source": [
    "# Use scikit-learn to train a model with the training features we've extracted\n",
    "\n",
    "# Lets use a SVC with folowing C parameters: \n",
    "params = [100, 10, 1, 0.1, 0.01, 0.001, 0.0001]\n",
    "\n",
    "for c in params:\n",
    "    clf = sklearn.svm.SVC(C=c)\n",
    "\n",
    "    # Fit (=train) the model\n",
    "    clf.fit(train_features_scaled, train_labels)\n",
    "    \n",
    "    # save the model to disk\n",
    "    filename = 'finalized_model_SVM_'+str(c)+'_VGGish.sav'\n",
    "    print (filename)\n",
    "    joblib.dump(clf, filename)\n",
    "    \n",
    "    # Now lets predict the labels of the test data!\n",
    "    predictions = clf.predict(test_features_scaled)\n",
    "    \n",
    "    # We can use sklearn to compute the accuracy score\n",
    "    accuracy = sklearn.metrics.accuracy_score(test_labels, predictions)\n",
    "    print(accuracy)"
   ]
  },
  {
   "cell_type": "code",
   "execution_count": null,
   "metadata": {},
   "outputs": [],
   "source": [
    "# Now lets predict the labels of the test data!\n",
    "predictions = clf.predict(test_features_scaled)"
   ]
  },
  {
   "cell_type": "code",
   "execution_count": null,
   "metadata": {},
   "outputs": [],
   "source": [
    "# Biased Guess Accuracy\n",
    "ones = np.ones(len(predictions))\n",
    "accuracy = sklearn.metrics.accuracy_score(test_labels, ones)\n",
    "print(accuracy)"
   ]
  },
  {
   "cell_type": "code",
   "execution_count": null,
   "metadata": {},
   "outputs": [],
   "source": [
    "# SVM Accuracy\n",
    "accuracy = sklearn.metrics.accuracy_score(test_labels, predictions)\n",
    "print(accuracy)"
   ]
  },
  {
   "cell_type": "code",
   "execution_count": null,
   "metadata": {},
   "outputs": [],
   "source": [
    "# lets compute the show the confusion matrix:\n",
    "cm = sklearn.metrics.confusion_matrix(test_labels, predictions)\n",
    "print(cm)"
   ]
  },
  {
   "cell_type": "code",
   "execution_count": null,
   "metadata": {},
   "outputs": [],
   "source": [
    "fig, ax = plt.subplots()\n",
    "ax.imshow(cm, interpolation='nearest', cmap='gray')\n",
    "for i, line in enumerate(cm):\n",
    "    for j, l in enumerate(line):\n",
    "        ax.text(j, i, l, size=20, color='green')\n",
    "ax.set_xticks(range(len(cm)))\n",
    "ax.set_xticklabels(labels)\n",
    "ax.set_yticks(range(len(cm)))\n",
    "ax.set_yticklabels(labels)\n",
    "ax.set_ylabel('True label')\n",
    "ax.set_xlabel('Predicted label')\n",
    "plt.show()"
   ]
  },
  {
   "cell_type": "markdown",
   "metadata": {},
   "source": [
    "### Random Forest Classifier without scaler"
   ]
  },
  {
   "cell_type": "code",
   "execution_count": null,
   "metadata": {},
   "outputs": [],
   "source": [
    "params = [100, 200, 500, 1000]\n",
    "\n",
    "for estimators in params:\n",
    "    clf3 = RandomForestClassifier(n_estimators=estimators)\n",
    "\n",
    "    # Fit (=train) the model\n",
    "    clf3.fit(train_features, train_labels)\n",
    "    \n",
    "    # save the model to disk\n",
    "    filename = 'finalized_model_RF_'+str(estimators)+'_VGGish.sav'\n",
    "    print (filename)\n",
    "    joblib.dump(clf3, filename)\n",
    "    \n",
    "    # Now lets predict the labels of the test data!\n",
    "    predictions = clf3.predict(test_features)\n",
    "    # We can use sklearn to compute the accuracy score\n",
    "    accuracy = sklearn.metrics.accuracy_score(test_labels, predictions)\n",
    "    print(accuracy)"
   ]
  },
  {
   "cell_type": "code",
   "execution_count": null,
   "metadata": {},
   "outputs": [],
   "source": [
    "# Now lets predict the labels of the test data!\n",
    "predictions = clf3.predict(test_features)"
   ]
  },
  {
   "cell_type": "code",
   "execution_count": null,
   "metadata": {},
   "outputs": [],
   "source": [
    "# We can use sklearn to compute the accuracy score\n",
    "accuracy = sklearn.metrics.accuracy_score(test_labels, predictions)\n",
    "print(accuracy)"
   ]
  }
 ],
 "metadata": {
  "kernelspec": {
   "display_name": "Python 3",
   "language": "python",
   "name": "python3"
  },
  "language_info": {
   "codemirror_mode": {
    "name": "ipython",
    "version": 3
   },
   "file_extension": ".py",
   "mimetype": "text/x-python",
   "name": "python",
   "nbconvert_exporter": "python",
   "pygments_lexer": "ipython3",
   "version": "3.7.3"
  }
 },
 "nbformat": 4,
 "nbformat_minor": 2
}
