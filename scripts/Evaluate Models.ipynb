{
 "cells": [
  {
   "cell_type": "code",
   "execution_count": 1,
   "metadata": {},
   "outputs": [],
   "source": [
    "import numpy as np"
   ]
  },
  {
   "cell_type": "code",
   "execution_count": null,
   "metadata": {},
   "outputs": [],
   "source": [
    "    train_files = []\n",
    "    test_files = []\n",
    "\n",
    "    with open(PIECES_SPLIT) as json_file:  \n",
    "        data = json.load(json_file)\n",
    "    \n",
    "        # Load train data\n",
    "        for music in data['train']:\n",
    "            train_files.append(music)\n",
    "        #    print (music)\n",
    "            \n",
    "        # Load test data\n",
    "        #print ('Test data')\n",
    "        for music in data['test']:\n",
    "            test_files.append(music)"
   ]
  }
 ],
 "metadata": {
  "kernelspec": {
   "display_name": "Python 3",
   "language": "python",
   "name": "python3"
  },
  "language_info": {
   "codemirror_mode": {
    "name": "ipython",
    "version": 3
   },
   "file_extension": ".py",
   "mimetype": "text/x-python",
   "name": "python",
   "nbconvert_exporter": "python",
   "pygments_lexer": "ipython3",
   "version": "3.7.4"
  }
 },
 "nbformat": 4,
 "nbformat_minor": 2
}
