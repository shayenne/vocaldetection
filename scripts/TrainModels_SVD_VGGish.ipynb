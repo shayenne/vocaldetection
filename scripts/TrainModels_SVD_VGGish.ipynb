{
 "cells": [
  {
   "cell_type": "markdown",
   "metadata": {},
   "source": [
    "# Training and evaluating Singing Voice Detectors"
   ]
  },
  {
   "cell_type": "code",
   "execution_count": 1,
   "metadata": {},
   "outputs": [],
   "source": [
    "import sys\n",
    "sys.path.append('../vocaldetection/')\n",
    "import sklearn\n",
    "import utils\n",
    "import json\n",
    "import os\n",
    "import pandas as pd\n",
    "import numpy as np\n",
    "import seaborn as sns"
   ]
  },
  {
   "cell_type": "markdown",
   "metadata": {},
   "source": [
    "I know that the best parameters for training SVM and RF on this dataset are C=0.1 for SVM and nE=100 for RF.\n",
    "\n",
    "Then, I can just train the models with these parameters and see how the results on confusion changes.\n",
    "\n",
    "For each set of descriptors, I can do a cross validation evaluation and see the accuracy for each classifier.\n",
    "\n",
    "Then, I select the greater accuracy to be my reference of ceiling confusion.\n",
    "\n",
    "**Remember:** VGGish should be calculated with half frame of overlap, it means that we have some temporal context associated on descriptors. (It can be set on the file vggish_params.py)"
   ]
  },
  {
   "cell_type": "code",
   "execution_count": 2,
   "metadata": {},
   "outputs": [],
   "source": [
    "features = ['VGGish']"
   ]
  },
  {
   "cell_type": "code",
   "execution_count": 3,
   "metadata": {},
   "outputs": [],
   "source": [
    "labels = ['absent','present']"
   ]
  },
  {
   "cell_type": "code",
   "execution_count": 4,
   "metadata": {},
   "outputs": [],
   "source": [
    "# Read features and labels\n",
    "VGGish_PATH = '/media/shayenne/CompMusHD/BRUCUTU/fasttmp/VGGISH/'\n",
    "FEAT_PATH = os.environ[\"FEAT_PATH\"]\n",
    "PIECES = os.environ[\"PIECES_JSON\"]"
   ]
  },
  {
   "cell_type": "code",
   "execution_count": 5,
   "metadata": {},
   "outputs": [],
   "source": [
    "music_files = []\n",
    "\n",
    "with open(PIECES) as json_file:  \n",
    "    data = json.load(json_file)\n",
    "\n",
    "    for music in data.keys():\n",
    "        music_files.append(FEAT_PATH+music)"
   ]
  },
  {
   "cell_type": "code",
   "execution_count": 6,
   "metadata": {},
   "outputs": [
    {
     "name": "stdout",
     "output_type": "stream",
     "text": [
      "...............................................................Load data completed!\n"
     ]
    }
   ],
   "source": [
    "train_features = []\n",
    "train_labels = []\n",
    "\n",
    "for tf in music_files:\n",
    "    # Load VGGish audio embeddings\n",
    "    try:\n",
    "        vggish = pd.read_csv(VGGish_PATH+os.path.basename(tf)+\"_VGGish_PCA.csv\",index_col=None, header=None)\n",
    "        vggish = vggish.values\n",
    "    \n",
    "        print('.', end = '')\n",
    "    except FileNotFoundError:\n",
    "        print ('Não encontrei', os.path.basename(tf))\n",
    "        continue\n",
    "\n",
    "    lbl = np.load(tf+\"_labels_960ms.npy\")\n",
    "    #print (lbl.shape)\n",
    "    \n",
    "    feature_vector = []\n",
    "    for idx in range(vggish.shape[0]):\n",
    "        feature_vector.append(vggish[idx])\n",
    "        \n",
    "    # Store the feature vector and corresponding label in integer format\n",
    "    for idx in range(len(feature_vector)):\n",
    "        if lbl[idx] != -1: # Remove confusion frames\n",
    "            train_features.append(feature_vector[idx])\n",
    "            train_labels.append(lbl[idx])\n",
    "            \n",
    "print ('Load data completed!')"
   ]
  },
  {
   "cell_type": "code",
   "execution_count": 7,
   "metadata": {},
   "outputs": [],
   "source": [
    "X = np.array(train_features)\n",
    "y = np.array(train_labels)"
   ]
  },
  {
   "cell_type": "code",
   "execution_count": 8,
   "metadata": {},
   "outputs": [
    {
     "name": "stdout",
     "output_type": "stream",
     "text": [
      "0.6949274781633143\n"
     ]
    }
   ],
   "source": [
    "# Porcentage of voiced frames on dataset\n",
    "print (sum(y)/len(X))"
   ]
  },
  {
   "cell_type": "code",
   "execution_count": 9,
   "metadata": {},
   "outputs": [],
   "source": [
    "# Split dataset into train, validation and test sets"
   ]
  },
  {
   "cell_type": "code",
   "execution_count": 11,
   "metadata": {},
   "outputs": [
    {
     "data": {
      "text/plain": [
       "2"
      ]
     },
     "execution_count": 11,
     "metadata": {},
     "output_type": "execute_result"
    }
   ],
   "source": [
    "from sklearn.model_selection import StratifiedKFold # import KFold\n",
    "seed = 7\n",
    "kf = StratifiedKFold(n_splits=2, random_state=seed) # Define the split - into 2 folds \n",
    "kf.get_n_splits(X) # returns the number of splitting iterations in the cross-validator"
   ]
  },
  {
   "cell_type": "code",
   "execution_count": 12,
   "metadata": {},
   "outputs": [],
   "source": [
    "# Shuffle dataframe to avoid use frames of same music on test \n",
    "### df.sample(frac=1).reset_index(drop=True)"
   ]
  },
  {
   "cell_type": "code",
   "execution_count": null,
   "metadata": {},
   "outputs": [],
   "source": []
  },
  {
   "cell_type": "code",
   "execution_count": 13,
   "metadata": {},
   "outputs": [
    {
     "name": "stdout",
     "output_type": "stream",
     "text": [
      "TRAIN: [12391 12392 12393 ... 24955 24956 24957] TEST: [    0     1     2 ... 12779 12780 12781]\n",
      "TRAIN: [    0     1     2 ... 12779 12780 12781] TEST: [12391 12392 12393 ... 24955 24956 24957]\n"
     ]
    }
   ],
   "source": [
    "for train_index, test_index in kf.split(X,y):\n",
    "    print(\"TRAIN:\", train_index, \"TEST:\", test_index)\n",
    "    X_train, X_test = X[train_index], X[test_index]\n",
    "    y_train, y_test = y[train_index], y[test_index]"
   ]
  },
  {
   "cell_type": "code",
   "execution_count": null,
   "metadata": {},
   "outputs": [],
   "source": []
  },
  {
   "cell_type": "code",
   "execution_count": 14,
   "metadata": {},
   "outputs": [],
   "source": [
    "# Fit models\n",
    "\n",
    "# Evaluate models"
   ]
  },
  {
   "cell_type": "code",
   "execution_count": 15,
   "metadata": {},
   "outputs": [],
   "source": [
    "def plot_cm(cm):\n",
    "    fig, ax = plt.subplots()\n",
    "    ax.imshow(cm, interpolation='nearest', cmap='gray')\n",
    "    for i, line in enumerate(cm):\n",
    "        for j, l in enumerate(line):\n",
    "            ax.text(j, i, l, size=20, color='green')\n",
    "    ax.set_xticks(range(len(cm)))\n",
    "    ax.set_xticklabels(labels)\n",
    "    ax.set_yticks(range(len(cm)))\n",
    "    ax.set_yticklabels(labels)\n",
    "    ax.set_ylabel('True label')\n",
    "    ax.set_xlabel('Predicted label')\n",
    "    plt.show()"
   ]
  },
  {
   "cell_type": "code",
   "execution_count": 16,
   "metadata": {},
   "outputs": [
    {
     "data": {
      "text/plain": [
       "(24958, 128)"
      ]
     },
     "execution_count": 16,
     "metadata": {},
     "output_type": "execute_result"
    }
   ],
   "source": [
    "X.shape"
   ]
  },
  {
   "cell_type": "code",
   "execution_count": null,
   "metadata": {},
   "outputs": [],
   "source": []
  },
  {
   "cell_type": "markdown",
   "metadata": {},
   "source": [
    "# SVM with scaler"
   ]
  },
  {
   "cell_type": "code",
   "execution_count": 67,
   "metadata": {},
   "outputs": [],
   "source": [
    "# save the scaler to disk\n",
    "#filename = 'scaler_features.sav'\n",
    "#joblib.dump(scaler, filename)"
   ]
  },
  {
   "cell_type": "code",
   "execution_count": 23,
   "metadata": {},
   "outputs": [
    {
     "name": "stdout",
     "output_type": "stream",
     "text": [
      "TRAIN: [12479 12480 12481 ... 24955 24956 24957] TEST: [    0     1     2 ... 12476 12477 12478]\n"
     ]
    },
    {
     "name": "stderr",
     "output_type": "stream",
     "text": [
      "/home/shayenne/anaconda3/lib/python3.7/site-packages/sklearn/svm/base.py:193: FutureWarning: The default value of gamma will change from 'auto' to 'scale' in version 0.22 to account better for unscaled features. Set gamma explicitly to 'auto' or 'scale' to avoid this warning.\n",
      "  \"avoid this warning.\", FutureWarning)\n"
     ]
    },
    {
     "name": "stdout",
     "output_type": "stream",
     "text": [
      "finalized_model_SVM_0.1_VGGish_1.sav\n",
      "TRAIN: [    0     1     2 ... 12476 12477 12478] TEST: [12479 12480 12481 ... 24955 24956 24957]\n"
     ]
    },
    {
     "name": "stderr",
     "output_type": "stream",
     "text": [
      "/home/shayenne/anaconda3/lib/python3.7/site-packages/sklearn/svm/base.py:193: FutureWarning: The default value of gamma will change from 'auto' to 'scale' in version 0.22 to account better for unscaled features. Set gamma explicitly to 'auto' or 'scale' to avoid this warning.\n",
      "  \"avoid this warning.\", FutureWarning)\n"
     ]
    },
    {
     "name": "stdout",
     "output_type": "stream",
     "text": [
      "finalized_model_SVM_0.1_VGGish_2.sav\n"
     ]
    }
   ],
   "source": [
    "# Use scikit-learn to train a model with the training features we've extracted\n",
    "from sklearn.svm import SVC\n",
    "import pandas as pd\n",
    "import joblib\n",
    "\n",
    "results_svm = pd.DataFrame(columns=['classifier','parameter','accuracy', 'cm', 'features'])\n",
    "\n",
    "classifier = 'SVM'\n",
    "features = 'VGGish'\n",
    "\n",
    "n_split = 0\n",
    "\n",
    "for train_index, test_index in kf.split(X):    \n",
    "    n_split += 1\n",
    "    print(\"TRAIN:\", train_index, \"TEST:\", test_index)\n",
    "    X_train, X_test = X[train_index], X[test_index]\n",
    "    y_train, y_test = y[train_index], y[test_index]\n",
    "\n",
    "    # Create a scale object\n",
    "    scaler = sklearn.preprocessing.StandardScaler()\n",
    "\n",
    "    # Learn the parameters from the training data only\n",
    "    scaler.fit(X_train)\n",
    "\n",
    "    # Apply the learned parameters to the training and test sets:\n",
    "    train_features_scaled = scaler.fit_transform(X_train)\n",
    "\n",
    "    test_features_scaled = scaler.transform(X_test)\n",
    "    \n",
    "    # Lets use a SVC with folowing C parameters: \n",
    "    params = [0.1] #[1, 0.1, 0.01, 0.001]\n",
    "\n",
    "    for c in params:\n",
    "        clf = SVC(C=c, probability=True)\n",
    "\n",
    "        # Fit (=train) the model\n",
    "        clf.fit(train_features_scaled, y_train)\n",
    "\n",
    "        filename = 'finalized_model_'+classifier+'_'+str(c)+'_'+features+'_'+str(n_split)+'.sav'\n",
    "        print (filename)\n",
    "        joblib.dump(clf, filename)\n",
    "\n",
    "        # Now lets predict the labels of the test data!\n",
    "        predictions = clf.predict(test_features_scaled)\n",
    "        # SVM Accuracy\n",
    "        accuracy = sklearn.metrics.accuracy_score(y_test, predictions)\n",
    "\n",
    "        # lets compute the show the confusion matrix:\n",
    "        cm = sklearn.metrics.confusion_matrix(y_test, predictions)\n",
    "        \n",
    "        results_svm.loc[results_svm.index.max() + 1] = [classifier, c, accuracy, cm, features]\n"
   ]
  },
  {
   "cell_type": "code",
   "execution_count": 59,
   "metadata": {},
   "outputs": [
    {
     "data": {
      "text/plain": [
       "SVC(C=0.1, cache_size=200, class_weight=None, coef0=0.0,\n",
       "    decision_function_shape='ovr', degree=3, gamma='auto_deprecated',\n",
       "    kernel='rbf', max_iter=-1, probability=True, random_state=None,\n",
       "    shrinking=True, tol=0.001, verbose=False)"
      ]
     },
     "execution_count": 59,
     "metadata": {},
     "output_type": "execute_result"
    }
   ],
   "source": [
    "clf"
   ]
  },
  {
   "cell_type": "code",
   "execution_count": 20,
   "metadata": {},
   "outputs": [],
   "source": [
    "results_svm.to_pickle('results_svm.pkl')"
   ]
  },
  {
   "cell_type": "code",
   "execution_count": null,
   "metadata": {},
   "outputs": [],
   "source": []
  },
  {
   "cell_type": "code",
   "execution_count": 24,
   "metadata": {},
   "outputs": [],
   "source": [
    "# Now lets predict the labels of the test data!\n",
    "predictions = clf.predict(test_features_scaled)"
   ]
  },
  {
   "cell_type": "code",
   "execution_count": 25,
   "metadata": {},
   "outputs": [
    {
     "name": "stdout",
     "output_type": "stream",
     "text": [
      "0.6897988620883083\n"
     ]
    }
   ],
   "source": [
    "# Biased Guess Accuracy\n",
    "ones = np.ones(len(predictions))\n",
    "accuracy = sklearn.metrics.accuracy_score(y_test, ones)\n",
    "print(accuracy)"
   ]
  },
  {
   "cell_type": "code",
   "execution_count": 26,
   "metadata": {},
   "outputs": [
    {
     "name": "stdout",
     "output_type": "stream",
     "text": [
      "0.8616075006010097\n"
     ]
    }
   ],
   "source": [
    "# SVM Accuracy\n",
    "accuracy = sklearn.metrics.accuracy_score(y_test, predictions)\n",
    "print(accuracy)"
   ]
  },
  {
   "cell_type": "code",
   "execution_count": 27,
   "metadata": {},
   "outputs": [
    {
     "name": "stdout",
     "output_type": "stream",
     "text": [
      "[[2819 1052]\n",
      " [ 675 7933]]\n"
     ]
    }
   ],
   "source": [
    "# lets compute the show the confusion matrix:\n",
    "cm = sklearn.metrics.confusion_matrix(y_test, predictions)\n",
    "print(cm)"
   ]
  },
  {
   "cell_type": "markdown",
   "metadata": {},
   "source": [
    "# Testing on one piece"
   ]
  },
  {
   "cell_type": "code",
   "execution_count": 28,
   "metadata": {},
   "outputs": [],
   "source": [
    "piece_name = 'CelestialShore_DieForUs'"
   ]
  },
  {
   "cell_type": "code",
   "execution_count": 29,
   "metadata": {},
   "outputs": [],
   "source": [
    "vggish = pd.read_csv(VGGish_PATH+piece_name+\"_VGGish_PCA.csv\",index_col=None, header=None)\n",
    "vggish = vggish.values"
   ]
  },
  {
   "cell_type": "code",
   "execution_count": 30,
   "metadata": {},
   "outputs": [],
   "source": [
    "piece_features_scaled = scaler.transform(vggish)"
   ]
  },
  {
   "cell_type": "code",
   "execution_count": 31,
   "metadata": {},
   "outputs": [],
   "source": [
    "pred_labels = clf.predict(piece_features_scaled)"
   ]
  },
  {
   "cell_type": "code",
   "execution_count": 32,
   "metadata": {},
   "outputs": [
    {
     "name": "stdout",
     "output_type": "stream",
     "text": [
      "(580,) (579, 128)\n"
     ]
    }
   ],
   "source": [
    "piece_test = np.load(FEAT_PATH+piece_name+\"_labels.npy\")\n",
    "print (piece_test.shape, vggish.shape)\n",
    "piece_test = piece_test[:vggish.shape[0]]"
   ]
  },
  {
   "cell_type": "code",
   "execution_count": 35,
   "metadata": {},
   "outputs": [
    {
     "data": {
      "image/png": "[encoded data removed]",
      "text/plain": [
       "<Figure size 432x288 with 1 Axes>"
      ]
     },
     "metadata": {
      "needs_background": "light"
     },
     "output_type": "display_data"
    }
   ],
   "source": [
    "# lets compute the show the confusion matrix:\n",
    "cm = sklearn.metrics.confusion_matrix(piece_test, pred_labels)\n",
    "plot_cm(cm)"
   ]
  },
  {
   "cell_type": "code",
   "execution_count": 36,
   "metadata": {},
   "outputs": [],
   "source": [
    "proba = clf.predict_proba(piece_features_scaled)\n",
    "proba = proba[:,1]"
   ]
  },
  {
   "cell_type": "code",
   "execution_count": null,
   "metadata": {},
   "outputs": [],
   "source": []
  },
  {
   "cell_type": "code",
   "execution_count": 37,
   "metadata": {},
   "outputs": [],
   "source": [
    "import scipy.signal\n",
    "import matplotlib.pyplot as plt\n",
    "%matplotlib inline\n",
    "\n",
    "import seaborn as sns"
   ]
  },
  {
   "cell_type": "code",
   "execution_count": 40,
   "metadata": {},
   "outputs": [
    {
     "data": {
      "text/plain": [
       "<matplotlib.legend.Legend at 0x7f5a40c54e48>"
      ]
     },
     "execution_count": 40,
     "metadata": {},
     "output_type": "execute_result"
    },
    {
     "data": {
      "image/png": "[encoded data removed]",
      "text/plain": [
       "<Figure size 1008x216 with 1 Axes>"
      ]
     },
     "metadata": {
      "needs_background": "light"
     },
     "output_type": "display_data"
    }
   ],
   "source": [
    "plt.figure(figsize=(14,3))\n",
    "plt.plot(piece_test+2)\n",
    "plt.plot(pred_labels+1)\n",
    "plt.plot(scipy.signal.medfilt(pred_labels,kernel_size=5))\n",
    "plt.plot(proba-1)\n",
    "plt.plot(scipy.signal.medfilt(proba,kernel_size=5)-2)\n",
    "thresh = np.zeros(len(proba))\n",
    "thresh[scipy.signal.medfilt(proba,kernel_size=5) > 0.7] = 1\n",
    "plt.plot(thresh-3)\n",
    "plt.legend(['Original Label', 'Predicted Label', 'Filter Prediction', \n",
    "            'Probabilities', 'Filter Probabilities', 'Threshold Prob'], bbox_to_anchor=(1, 1))"
   ]
  },
  {
   "cell_type": "markdown",
   "metadata": {},
   "source": [
    "### Perform Grid Search to find the best parameters"
   ]
  },
  {
   "cell_type": "code",
   "execution_count": 58,
   "metadata": {},
   "outputs": [],
   "source": [
    "# Use scikit-learn to train a model with the training features we've extracted\n",
    "from sklearn.svm import SVC\n",
    "from sklearn.model_selection import GridSearchCV\n",
    "\n",
    "def svc_param_selection(X, y, nfolds):\n",
    "    Cs = [0.001, 0.01, 0.1, 1, 10]\n",
    "    gammas = [0.1]#gammas = [0.001, 0.01, 0.1, 1]\n",
    "    param_grid = {'C': Cs, 'gamma' : gammas}\n",
    "    grid_search = GridSearchCV(SVC(kernel='rbf'), param_grid, cv=nfolds)\n",
    "    grid_search.fit(X, y)\n",
    "    grid_search.best_params_\n",
    "    return grid_search.best_params_"
   ]
  },
  {
   "cell_type": "code",
   "execution_count": 58,
   "metadata": {},
   "outputs": [
    {
     "name": "stdout",
     "output_type": "stream",
     "text": [
      "{'C': 10, 'gamma': 0.1}\n"
     ]
    }
   ],
   "source": [
    "nfolds = 2\n",
    "print (svc_param_selection(train_features_scaled, y_train, nfolds))"
   ]
  },
  {
   "cell_type": "code",
   "execution_count": null,
   "metadata": {},
   "outputs": [],
   "source": [
    "# Lets use a SVC with folowing C parameters: \n",
    "params = [10, 1, 0.1, 0.01, 0.001]\n",
    "\n",
    "for c in params:\n",
    "    clf1 = SVC(C=c)\n",
    "\n",
    "    # Fit (=train) the model\n",
    "    clf1.fit(train_features_scaled, y_train)\n",
    "    \n",
    "    # save the model to disk\n",
    "    #filename = 'finalized_model_SVM_'+str(c)+'_VGGish.sav'\n",
    "    #print (filename)\n",
    "    #joblib.dump(clf, filename)\n",
    "    \n",
    "    # Now lets predict the labels of the test data!\n",
    "    predictions = clf1.predict(test_features_scaled)\n",
    "    # SVM Accuracy\n",
    "    accuracy = sklearn.metrics.accuracy_score(y_test, predictions)\n",
    "    print(accuracy)\n",
    "    \n",
    "    # lets compute the show the confusion matrix:\n",
    "    cm = sklearn.metrics.confusion_matrix(y_test, predictions)\n",
    "    print(cm)\n",
    "    \n",
    "    plot_cm(cm)"
   ]
  },
  {
   "cell_type": "markdown",
   "metadata": {},
   "source": [
    "### Random Forest Classifier without scaler"
   ]
  },
  {
   "cell_type": "code",
   "execution_count": 17,
   "metadata": {},
   "outputs": [],
   "source": [
    "# Use scikit-learn to train a model with the training features we've extracted\n",
    "from sklearn.ensemble import RandomForestClassifier\n",
    "from sklearn.model_selection import RandomizedSearchCV# Number of trees in random forest\n",
    "\n",
    "def rf_param_selection(X, y, nfolds):\n",
    "    n_estimators = [int(x) for x in np.linspace(start = 10, stop = 200, num = 10)]\n",
    "    # Number of features to consider at every split\n",
    "    max_features = ['auto', 'sqrt']\n",
    "    # Maximum number of levels in tree\n",
    "    max_depth = [int(x) for x in np.linspace(10, 110, num = 11)]\n",
    "    max_depth.append(None)\n",
    "    # Minimum number of samples required to split a node\n",
    "    min_samples_split = [2, 5, 10]\n",
    "    # Minimum number of samples required at each leaf node\n",
    "    min_samples_leaf = [1, 2, 4]\n",
    "    # Method of selecting samples for training each tree\n",
    "    bootstrap = [True, False]# Create the random grid\n",
    "    random_grid = {'n_estimators': n_estimators,\n",
    "                   'max_features': max_features,\n",
    "                   'max_depth': max_depth,\n",
    "                   'min_samples_split': min_samples_split,\n",
    "                   'min_samples_leaf': min_samples_leaf,\n",
    "                   'bootstrap': bootstrap}\n",
    "\n",
    "    # Use the random grid to search for best hyperparameters\n",
    "    # First create the base model to tune\n",
    "    rf = RandomForestClassifier()\n",
    "    # Random search of parameters, using 3 fold cross validation, \n",
    "    # search across 100 different combinations, and use all available cores\n",
    "    rf_random = RandomizedSearchCV(estimator = rf, param_distributions = random_grid, \n",
    "                                   n_iter = 100, cv = nfolds, verbose=2, random_state=42, \n",
    "                                   n_jobs = -1)\n",
    "    # Fit the random search model\n",
    "    rf_random.fit(X, y)\n",
    "    print (rf_random.best_params_)\n",
    "    return rf_random.best_estimator_\n"
   ]
  },
  {
   "cell_type": "code",
   "execution_count": 18,
   "metadata": {},
   "outputs": [
    {
     "name": "stdout",
     "output_type": "stream",
     "text": [
      "Fitting 2 folds for each of 100 candidates, totalling 200 fits\n"
     ]
    },
    {
     "name": "stderr",
     "output_type": "stream",
     "text": [
      "[Parallel(n_jobs=-1)]: Using backend LokyBackend with 8 concurrent workers.\n",
      "[Parallel(n_jobs=-1)]: Done  25 tasks      | elapsed:  1.1min\n",
      "[Parallel(n_jobs=-1)]: Done 146 tasks      | elapsed:  4.6min\n",
      "[Parallel(n_jobs=-1)]: Done 200 out of 200 | elapsed:  5.8min finished\n"
     ]
    },
    {
     "name": "stdout",
     "output_type": "stream",
     "text": [
      "{'n_estimators': 157, 'min_samples_split': 10, 'min_samples_leaf': 1, 'max_features': 'sqrt', 'max_depth': 20, 'bootstrap': True}\n"
     ]
    }
   ],
   "source": [
    "nfolds = 2\n",
    "best_rf = rf_param_selection(X_train, y_train, nfolds)"
   ]
  },
  {
   "cell_type": "code",
   "execution_count": 24,
   "metadata": {},
   "outputs": [
    {
     "data": {
      "text/plain": [
       "RandomForestClassifier(bootstrap=True, class_weight=None, criterion='gini',\n",
       "                       max_depth=20, max_features='sqrt', max_leaf_nodes=None,\n",
       "                       min_impurity_decrease=0.0, min_impurity_split=None,\n",
       "                       min_samples_leaf=1, min_samples_split=10,\n",
       "                       min_weight_fraction_leaf=0.0, n_estimators=157,\n",
       "                       n_jobs=None, oob_score=False, random_state=None,\n",
       "                       verbose=0, warm_start=False)"
      ]
     },
     "execution_count": 24,
     "metadata": {},
     "output_type": "execute_result"
    }
   ],
   "source": [
    "rf = RandomForestClassifier(n_estimators=157, min_samples_split=10, min_samples_leaf=1, \n",
    "                            max_features='sqrt', max_depth=20, bootstrap=True)\n",
    "rf.fit(X_train, y_train)"
   ]
  },
  {
   "cell_type": "code",
   "execution_count": 25,
   "metadata": {},
   "outputs": [
    {
     "data": {
      "text/plain": [
       "RandomForestClassifier(bootstrap=True, class_weight=None, criterion='gini',\n",
       "                       max_depth=20, max_features='sqrt', max_leaf_nodes=None,\n",
       "                       min_impurity_decrease=0.0, min_impurity_split=None,\n",
       "                       min_samples_leaf=1, min_samples_split=10,\n",
       "                       min_weight_fraction_leaf=0.0, n_estimators=157,\n",
       "                       n_jobs=None, oob_score=False, random_state=None,\n",
       "                       verbose=0, warm_start=False)"
      ]
     },
     "execution_count": 25,
     "metadata": {},
     "output_type": "execute_result"
    }
   ],
   "source": [
    "rf\n"
   ]
  },
  {
   "cell_type": "code",
   "execution_count": 41,
   "metadata": {},
   "outputs": [],
   "source": [
    "# Now lets predict the labels of the test data!\n",
    "predictions = rf.predict(X)"
   ]
  },
  {
   "cell_type": "code",
   "execution_count": 42,
   "metadata": {},
   "outputs": [
    {
     "name": "stdout",
     "output_type": "stream",
     "text": [
      "0.6949274781633143\n"
     ]
    }
   ],
   "source": [
    "# Biased Guess Accuracy\n",
    "ones = np.ones(len(predictions))\n",
    "accuracy = sklearn.metrics.accuracy_score(y, ones)\n",
    "print(accuracy)"
   ]
  },
  {
   "cell_type": "code",
   "execution_count": 43,
   "metadata": {},
   "outputs": [
    {
     "name": "stdout",
     "output_type": "stream",
     "text": [
      "0.930322942543473\n"
     ]
    }
   ],
   "source": [
    "# SVM Accuracy\n",
    "accuracy = sklearn.metrics.accuracy_score(y, predictions)\n",
    "print(accuracy)"
   ]
  },
  {
   "cell_type": "code",
   "execution_count": 44,
   "metadata": {},
   "outputs": [
    {
     "name": "stdout",
     "output_type": "stream",
     "text": [
      "[[ 6453  1161]\n",
      " [  578 16766]]\n"
     ]
    }
   ],
   "source": [
    "# lets compute the show the confusion matrix:\n",
    "cm = sklearn.metrics.confusion_matrix(y, predictions)\n",
    "print(cm)"
   ]
  },
  {
   "cell_type": "code",
   "execution_count": null,
   "metadata": {},
   "outputs": [],
   "source": []
  },
  {
   "cell_type": "markdown",
   "metadata": {},
   "source": [
    "# Testing on one piece"
   ]
  },
  {
   "cell_type": "code",
   "execution_count": 66,
   "metadata": {},
   "outputs": [],
   "source": [
    "piece_name = 'LizNelson_Rainfall'"
   ]
  },
  {
   "cell_type": "code",
   "execution_count": 67,
   "metadata": {},
   "outputs": [],
   "source": [
    "vggish = pd.read_csv(VGGish_PATH+piece_name+\"_VGGish_PCA.csv\",index_col=None, header=None)\n",
    "vggish = vggish.values"
   ]
  },
  {
   "cell_type": "code",
   "execution_count": 68,
   "metadata": {},
   "outputs": [],
   "source": [
    "piece_features = vggish"
   ]
  },
  {
   "cell_type": "code",
   "execution_count": 69,
   "metadata": {},
   "outputs": [],
   "source": [
    "pred_labels = rf.predict(piece_features)"
   ]
  },
  {
   "cell_type": "code",
   "execution_count": 70,
   "metadata": {},
   "outputs": [
    {
     "name": "stdout",
     "output_type": "stream",
     "text": [
      "(593,) (592, 128)\n"
     ]
    }
   ],
   "source": [
    "piece_test = np.load(FEAT_PATH+piece_name+\"_labels.npy\")\n",
    "print (piece_test.shape, vggish.shape)\n",
    "piece_test = piece_test[:vggish.shape[0]]"
   ]
  },
  {
   "cell_type": "code",
   "execution_count": 71,
   "metadata": {},
   "outputs": [
    {
     "data": {
      "image/png": "[encoded data removed]",
      "text/plain": [
       "<Figure size 432x288 with 1 Axes>"
      ]
     },
     "metadata": {
      "needs_background": "light"
     },
     "output_type": "display_data"
    }
   ],
   "source": [
    "# lets compute the show the confusion matrix:\n",
    "cm = sklearn.metrics.confusion_matrix(piece_test, pred_labels)\n",
    "plot_cm(cm)"
   ]
  },
  {
   "cell_type": "code",
   "execution_count": 72,
   "metadata": {},
   "outputs": [],
   "source": [
    "proba = rf.predict_proba(piece_features)\n",
    "proba = proba[:,1]"
   ]
  },
  {
   "cell_type": "code",
   "execution_count": null,
   "metadata": {},
   "outputs": [],
   "source": []
  },
  {
   "cell_type": "code",
   "execution_count": 73,
   "metadata": {},
   "outputs": [],
   "source": [
    "import scipy.signal\n",
    "import matplotlib.pyplot as plt\n",
    "%matplotlib inline\n",
    "\n",
    "import seaborn as sns"
   ]
  },
  {
   "cell_type": "code",
   "execution_count": 74,
   "metadata": {},
   "outputs": [
    {
     "data": {
      "text/plain": [
       "<matplotlib.legend.Legend at 0x7f85194dfbe0>"
      ]
     },
     "execution_count": 74,
     "metadata": {},
     "output_type": "execute_result"
    },
    {
     "data": {
      "image/png": "[encoded data removed]",
      "text/plain": [
       "<Figure size 1008x216 with 1 Axes>"
      ]
     },
     "metadata": {
      "needs_background": "light"
     },
     "output_type": "display_data"
    }
   ],
   "source": [
    "plt.figure(figsize=(14,3))\n",
    "plt.plot(piece_test+2)\n",
    "plt.plot(pred_labels+1)\n",
    "plt.plot(scipy.signal.medfilt(pred_labels,kernel_size=5))\n",
    "plt.plot(proba-1)\n",
    "plt.plot(scipy.signal.medfilt(proba,kernel_size=5)-2)\n",
    "thresh = np.zeros(len(proba))\n",
    "thresh[scipy.signal.medfilt(proba,kernel_size=3) >= 0.5] = 1\n",
    "plt.plot(thresh-3)\n",
    "plt.legend(['Original Label', 'Predicted Label', 'Filter Prediction', \n",
    "            'Probabilities', 'Filter Probabilities', 'Threshold Prob'], bbox_to_anchor=(1, 1))"
   ]
  },
  {
   "cell_type": "code",
   "execution_count": 75,
   "metadata": {},
   "outputs": [
    {
     "data": {
      "image/png": "[encoded data removed]",
      "text/plain": [
       "<Figure size 432x288 with 1 Axes>"
      ]
     },
     "metadata": {
      "needs_background": "light"
     },
     "output_type": "display_data"
    }
   ],
   "source": [
    "# lets compute the show the confusion matrix:\n",
    "cm = sklearn.metrics.confusion_matrix(piece_test, thresh)\n",
    "plot_cm(cm)"
   ]
  },
  {
   "cell_type": "code",
   "execution_count": 42,
   "metadata": {},
   "outputs": [
    {
     "name": "stdout",
     "output_type": "stream",
     "text": [
      "TRAIN: [13488 13489 13490 ... 26972 26973 26974] TEST: [    0     1     2 ... 13485 13486 13487]\n",
      "0.828959074733096\n",
      "[[3204 1000]\n",
      " [1307 7977]]\n",
      "0.8385972716488731\n",
      "[[3155 1049]\n",
      " [1128 8156]]\n",
      "0.845344009489917\n",
      "[[3133 1071]\n",
      " [1015 8269]]\n",
      "0.8527580071174378\n",
      "[[3179 1025]\n",
      " [ 961 8323]]\n",
      "TRAIN: [    0     1     2 ... 13485 13486 13487] TEST: [13488 13489 13490 ... 26972 26973 26974]\n",
      "0.8359902127975087\n",
      "[[3053 1217]\n",
      " [ 995 8222]]\n",
      "0.8425150144583673\n",
      "[[2984 1286]\n",
      " [ 838 8379]]\n",
      "0.8464447245495662\n",
      "[[2972 1298]\n",
      " [ 773 8444]]\n",
      "0.8492622525394825\n",
      "[[2966 1304]\n",
      " [ 729 8488]]\n"
     ]
    }
   ],
   "source": [
    "# Use scikit-learn to train a model with the training features we've extracted\n",
    "from sklearn.ensemble import RandomForestClassifier\n",
    "\n",
    "results_rf = pd.DataFrame(columns=['classifier','parameter','accuracy', 'cm', 'features'])\n",
    "\n",
    "classifier = 'RF'\n",
    "features = 'VGGish'\n",
    "\n",
    "for train_index, test_index in kf.split(X):\n",
    "\n",
    "\n",
    "    print(\"TRAIN:\", train_index, \"TEST:\", test_index)\n",
    "    X_train, X_test = X[train_index], X[test_index]\n",
    "    y_train, y_test = y[train_index], y[test_index]\n",
    "\n",
    "    params = [10, 20, 50, 100]\n",
    "\n",
    "    for estimators in params:\n",
    "        clf3 = RandomForestClassifier(n_estimators=estimators)\n",
    "\n",
    "        # Fit (=train) the model\n",
    "        clf3.fit(X_train, y_train)\n",
    "\n",
    "        # save the model to disk\n",
    "        #filename = 'finalized_model_RF_'+str(estimators)+'_'+features+'_'+str(n_split)+'.sav'\n",
    "        #print (filename)\n",
    "        #joblib.dump(clf3, filename)\n",
    "\n",
    "        # Now lets predict the labels of the test data!\n",
    "        predictions = clf3.predict(X_test)\n",
    "        # We can use sklearn to compute the accuracy score\n",
    "        accuracy = sklearn.metrics.accuracy_score(y_test, predictions)\n",
    "        print(accuracy)\n",
    "\n",
    "        # lets compute the show the confusion matrix:\n",
    "        cm = sklearn.metrics.confusion_matrix(y_test, predictions)\n",
    "        print(cm)\n",
    "        \n",
    "        results_rf.loc[results_rf.index.max() + 1] = [classifier, estimators, accuracy, cm, features]"
   ]
  },
  {
   "cell_type": "code",
   "execution_count": 43,
   "metadata": {},
   "outputs": [
    {
     "data": {
      "text/html": [
       "<div>\n",
       "<style scoped>\n",
       "    .dataframe tbody tr th:only-of-type {\n",
       "        vertical-align: middle;\n",
       "    }\n",
       "\n",
       "    .dataframe tbody tr th {\n",
       "        vertical-align: top;\n",
       "    }\n",
       "\n",
       "    .dataframe thead th {\n",
       "        text-align: right;\n",
       "    }\n",
       "</style>\n",
       "<table border=\"1\" class=\"dataframe\">\n",
       "  <thead>\n",
       "    <tr style=\"text-align: right;\">\n",
       "      <th></th>\n",
       "      <th>classifier</th>\n",
       "      <th>parameter</th>\n",
       "      <th>accuracy</th>\n",
       "      <th>cm</th>\n",
       "      <th>features</th>\n",
       "    </tr>\n",
       "  </thead>\n",
       "  <tbody>\n",
       "    <tr>\n",
       "      <th>NaN</th>\n",
       "      <td>RF</td>\n",
       "      <td>100</td>\n",
       "      <td>0.849262</td>\n",
       "      <td>[[2966, 1304], [729, 8488]]</td>\n",
       "      <td>VGGish</td>\n",
       "    </tr>\n",
       "  </tbody>\n",
       "</table>\n",
       "</div>"
      ],
      "text/plain": [
       "    classifier  parameter  accuracy                           cm features\n",
       "NaN         RF        100  0.849262  [[2966, 1304], [729, 8488]]   VGGish"
      ]
     },
     "execution_count": 43,
     "metadata": {},
     "output_type": "execute_result"
    }
   ],
   "source": [
    "results_rf"
   ]
  },
  {
   "cell_type": "code",
   "execution_count": 44,
   "metadata": {},
   "outputs": [],
   "source": [
    "results_rf.to_pickle('results_random_forest_m-v-f.pkl')"
   ]
  },
  {
   "cell_type": "code",
   "execution_count": 45,
   "metadata": {},
   "outputs": [],
   "source": [
    "results_rf = pd.read_pickle('results_random_forest.pkl')\n",
    "results_rf_3 = pd.read_pickle('results_random_forest_m-v-f.pkl')"
   ]
  },
  {
   "cell_type": "code",
   "execution_count": 46,
   "metadata": {},
   "outputs": [
    {
     "data": {
      "text/html": [
       "<div>\n",
       "<style scoped>\n",
       "    .dataframe tbody tr th:only-of-type {\n",
       "        vertical-align: middle;\n",
       "    }\n",
       "\n",
       "    .dataframe tbody tr th {\n",
       "        vertical-align: top;\n",
       "    }\n",
       "\n",
       "    .dataframe thead th {\n",
       "        text-align: right;\n",
       "    }\n",
       "</style>\n",
       "<table border=\"1\" class=\"dataframe\">\n",
       "  <thead>\n",
       "    <tr style=\"text-align: right;\">\n",
       "      <th></th>\n",
       "      <th>classifier</th>\n",
       "      <th>parameter</th>\n",
       "      <th>accuracy</th>\n",
       "      <th>cm</th>\n",
       "      <th>features</th>\n",
       "    </tr>\n",
       "  </thead>\n",
       "  <tbody>\n",
       "    <tr>\n",
       "      <th>0</th>\n",
       "      <td>RF</td>\n",
       "      <td>10</td>\n",
       "      <td>0.744083</td>\n",
       "      <td>[[545, 573], [119, 1467]]</td>\n",
       "      <td>MFCC</td>\n",
       "    </tr>\n",
       "    <tr>\n",
       "      <th>1</th>\n",
       "      <td>RF</td>\n",
       "      <td>20</td>\n",
       "      <td>0.745192</td>\n",
       "      <td>[[503, 615], [74, 1512]]</td>\n",
       "      <td>MFCC</td>\n",
       "    </tr>\n",
       "    <tr>\n",
       "      <th>2</th>\n",
       "      <td>RF</td>\n",
       "      <td>50</td>\n",
       "      <td>0.735207</td>\n",
       "      <td>[[465, 653], [63, 1523]]</td>\n",
       "      <td>MFCC</td>\n",
       "    </tr>\n",
       "    <tr>\n",
       "      <th>3</th>\n",
       "      <td>RF</td>\n",
       "      <td>100</td>\n",
       "      <td>0.744453</td>\n",
       "      <td>[[467, 651], [40, 1546]]</td>\n",
       "      <td>MFCC</td>\n",
       "    </tr>\n",
       "    <tr>\n",
       "      <th>4</th>\n",
       "      <td>RF</td>\n",
       "      <td>10</td>\n",
       "      <td>0.765533</td>\n",
       "      <td>[[508, 490], [144, 1562]]</td>\n",
       "      <td>MFCC</td>\n",
       "    </tr>\n",
       "    <tr>\n",
       "      <th>5</th>\n",
       "      <td>RF</td>\n",
       "      <td>20</td>\n",
       "      <td>0.728920</td>\n",
       "      <td>[[423, 575], [158, 1548]]</td>\n",
       "      <td>MFCC</td>\n",
       "    </tr>\n",
       "    <tr>\n",
       "      <th>6</th>\n",
       "      <td>RF</td>\n",
       "      <td>50</td>\n",
       "      <td>0.735577</td>\n",
       "      <td>[[414, 584], [131, 1575]]</td>\n",
       "      <td>MFCC</td>\n",
       "    </tr>\n",
       "    <tr>\n",
       "      <th>7</th>\n",
       "      <td>RF</td>\n",
       "      <td>100</td>\n",
       "      <td>0.732618</td>\n",
       "      <td>[[398, 600], [123, 1583]]</td>\n",
       "      <td>MFCC</td>\n",
       "    </tr>\n",
       "    <tr>\n",
       "      <th>8</th>\n",
       "      <td>RF</td>\n",
       "      <td>10</td>\n",
       "      <td>0.786243</td>\n",
       "      <td>[[707, 166], [412, 1419]]</td>\n",
       "      <td>MFCC</td>\n",
       "    </tr>\n",
       "    <tr>\n",
       "      <th>9</th>\n",
       "      <td>RF</td>\n",
       "      <td>20</td>\n",
       "      <td>0.796598</td>\n",
       "      <td>[[729, 144], [406, 1425]]</td>\n",
       "      <td>MFCC</td>\n",
       "    </tr>\n",
       "    <tr>\n",
       "      <th>10</th>\n",
       "      <td>RF</td>\n",
       "      <td>50</td>\n",
       "      <td>0.810651</td>\n",
       "      <td>[[722, 151], [361, 1470]]</td>\n",
       "      <td>MFCC</td>\n",
       "    </tr>\n",
       "    <tr>\n",
       "      <th>11</th>\n",
       "      <td>RF</td>\n",
       "      <td>100</td>\n",
       "      <td>0.813609</td>\n",
       "      <td>[[726, 147], [357, 1474]]</td>\n",
       "      <td>MFCC</td>\n",
       "    </tr>\n",
       "    <tr>\n",
       "      <th>12</th>\n",
       "      <td>RF</td>\n",
       "      <td>10</td>\n",
       "      <td>0.790311</td>\n",
       "      <td>[[301, 359], [208, 1836]]</td>\n",
       "      <td>MFCC</td>\n",
       "    </tr>\n",
       "    <tr>\n",
       "      <th>13</th>\n",
       "      <td>RF</td>\n",
       "      <td>20</td>\n",
       "      <td>0.798447</td>\n",
       "      <td>[[294, 366], [179, 1865]]</td>\n",
       "      <td>MFCC</td>\n",
       "    </tr>\n",
       "    <tr>\n",
       "      <th>14</th>\n",
       "      <td>RF</td>\n",
       "      <td>50</td>\n",
       "      <td>0.811021</td>\n",
       "      <td>[[278, 382], [129, 1915]]</td>\n",
       "      <td>MFCC</td>\n",
       "    </tr>\n",
       "    <tr>\n",
       "      <th>15</th>\n",
       "      <td>RF</td>\n",
       "      <td>100</td>\n",
       "      <td>0.808062</td>\n",
       "      <td>[[265, 395], [124, 1920]]</td>\n",
       "      <td>MFCC</td>\n",
       "    </tr>\n",
       "    <tr>\n",
       "      <th>16</th>\n",
       "      <td>RF</td>\n",
       "      <td>10</td>\n",
       "      <td>0.822855</td>\n",
       "      <td>[[338, 243], [236, 1887]]</td>\n",
       "      <td>MFCC</td>\n",
       "    </tr>\n",
       "    <tr>\n",
       "      <th>17</th>\n",
       "      <td>RF</td>\n",
       "      <td>20</td>\n",
       "      <td>0.863905</td>\n",
       "      <td>[[368, 213], [155, 1968]]</td>\n",
       "      <td>MFCC</td>\n",
       "    </tr>\n",
       "    <tr>\n",
       "      <th>18</th>\n",
       "      <td>RF</td>\n",
       "      <td>50</td>\n",
       "      <td>0.875000</td>\n",
       "      <td>[[352, 229], [109, 2014]]</td>\n",
       "      <td>MFCC</td>\n",
       "    </tr>\n",
       "    <tr>\n",
       "      <th>19</th>\n",
       "      <td>RF</td>\n",
       "      <td>100</td>\n",
       "      <td>0.877219</td>\n",
       "      <td>[[355, 226], [106, 2017]]</td>\n",
       "      <td>MFCC</td>\n",
       "    </tr>\n",
       "    <tr>\n",
       "      <th>20</th>\n",
       "      <td>RF</td>\n",
       "      <td>10</td>\n",
       "      <td>0.773669</td>\n",
       "      <td>[[792, 398], [214, 1300]]</td>\n",
       "      <td>MFCC</td>\n",
       "    </tr>\n",
       "    <tr>\n",
       "      <th>21</th>\n",
       "      <td>RF</td>\n",
       "      <td>20</td>\n",
       "      <td>0.752589</td>\n",
       "      <td>[[749, 441], [228, 1286]]</td>\n",
       "      <td>MFCC</td>\n",
       "    </tr>\n",
       "    <tr>\n",
       "      <th>22</th>\n",
       "      <td>RF</td>\n",
       "      <td>50</td>\n",
       "      <td>0.755917</td>\n",
       "      <td>[[741, 449], [211, 1303]]</td>\n",
       "      <td>MFCC</td>\n",
       "    </tr>\n",
       "    <tr>\n",
       "      <th>23</th>\n",
       "      <td>RF</td>\n",
       "      <td>100</td>\n",
       "      <td>0.758876</td>\n",
       "      <td>[[741, 449], [203, 1311]]</td>\n",
       "      <td>MFCC</td>\n",
       "    </tr>\n",
       "    <tr>\n",
       "      <th>24</th>\n",
       "      <td>RF</td>\n",
       "      <td>10</td>\n",
       "      <td>0.842086</td>\n",
       "      <td>[[590, 230], [197, 1687]]</td>\n",
       "      <td>MFCC</td>\n",
       "    </tr>\n",
       "    <tr>\n",
       "      <th>25</th>\n",
       "      <td>RF</td>\n",
       "      <td>20</td>\n",
       "      <td>0.865754</td>\n",
       "      <td>[[584, 236], [127, 1757]]</td>\n",
       "      <td>MFCC</td>\n",
       "    </tr>\n",
       "    <tr>\n",
       "      <th>26</th>\n",
       "      <td>RF</td>\n",
       "      <td>50</td>\n",
       "      <td>0.865385</td>\n",
       "      <td>[[559, 261], [103, 1781]]</td>\n",
       "      <td>MFCC</td>\n",
       "    </tr>\n",
       "    <tr>\n",
       "      <th>27</th>\n",
       "      <td>RF</td>\n",
       "      <td>100</td>\n",
       "      <td>0.873891</td>\n",
       "      <td>[[576, 244], [97, 1787]]</td>\n",
       "      <td>MFCC</td>\n",
       "    </tr>\n",
       "    <tr>\n",
       "      <th>28</th>\n",
       "      <td>RF</td>\n",
       "      <td>10</td>\n",
       "      <td>0.764793</td>\n",
       "      <td>[[376, 391], [245, 1692]]</td>\n",
       "      <td>MFCC</td>\n",
       "    </tr>\n",
       "    <tr>\n",
       "      <th>29</th>\n",
       "      <td>RF</td>\n",
       "      <td>20</td>\n",
       "      <td>0.786243</td>\n",
       "      <td>[[362, 405], [173, 1764]]</td>\n",
       "      <td>MFCC</td>\n",
       "    </tr>\n",
       "    <tr>\n",
       "      <th>30</th>\n",
       "      <td>RF</td>\n",
       "      <td>50</td>\n",
       "      <td>0.790311</td>\n",
       "      <td>[[328, 439], [128, 1809]]</td>\n",
       "      <td>MFCC</td>\n",
       "    </tr>\n",
       "    <tr>\n",
       "      <th>31</th>\n",
       "      <td>RF</td>\n",
       "      <td>100</td>\n",
       "      <td>0.791050</td>\n",
       "      <td>[[310, 457], [108, 1829]]</td>\n",
       "      <td>MFCC</td>\n",
       "    </tr>\n",
       "    <tr>\n",
       "      <th>32</th>\n",
       "      <td>RF</td>\n",
       "      <td>10</td>\n",
       "      <td>0.759246</td>\n",
       "      <td>[[489, 365], [286, 1564]]</td>\n",
       "      <td>MFCC</td>\n",
       "    </tr>\n",
       "    <tr>\n",
       "      <th>33</th>\n",
       "      <td>RF</td>\n",
       "      <td>20</td>\n",
       "      <td>0.760355</td>\n",
       "      <td>[[447, 407], [241, 1609]]</td>\n",
       "      <td>MFCC</td>\n",
       "    </tr>\n",
       "    <tr>\n",
       "      <th>34</th>\n",
       "      <td>RF</td>\n",
       "      <td>50</td>\n",
       "      <td>0.772189</td>\n",
       "      <td>[[450, 404], [212, 1638]]</td>\n",
       "      <td>MFCC</td>\n",
       "    </tr>\n",
       "    <tr>\n",
       "      <th>35</th>\n",
       "      <td>RF</td>\n",
       "      <td>100</td>\n",
       "      <td>0.783284</td>\n",
       "      <td>[[452, 402], [184, 1666]]</td>\n",
       "      <td>MFCC</td>\n",
       "    </tr>\n",
       "    <tr>\n",
       "      <th>36</th>\n",
       "      <td>RF</td>\n",
       "      <td>10</td>\n",
       "      <td>0.790973</td>\n",
       "      <td>[[417, 251], [314, 1721]]</td>\n",
       "      <td>MFCC</td>\n",
       "    </tr>\n",
       "    <tr>\n",
       "      <th>37</th>\n",
       "      <td>RF</td>\n",
       "      <td>20</td>\n",
       "      <td>0.793563</td>\n",
       "      <td>[[388, 280], [278, 1757]]</td>\n",
       "      <td>MFCC</td>\n",
       "    </tr>\n",
       "    <tr>\n",
       "      <th>38</th>\n",
       "      <td>RF</td>\n",
       "      <td>50</td>\n",
       "      <td>0.819830</td>\n",
       "      <td>[[399, 269], [218, 1817]]</td>\n",
       "      <td>MFCC</td>\n",
       "    </tr>\n",
       "    <tr>\n",
       "      <th>39</th>\n",
       "      <td>RF</td>\n",
       "      <td>100</td>\n",
       "      <td>0.822420</td>\n",
       "      <td>[[400, 268], [212, 1823]]</td>\n",
       "      <td>MFCC</td>\n",
       "    </tr>\n",
       "  </tbody>\n",
       "</table>\n",
       "</div>"
      ],
      "text/plain": [
       "   classifier parameter  accuracy                         cm features\n",
       "0          RF        10  0.744083  [[545, 573], [119, 1467]]     MFCC\n",
       "1          RF        20  0.745192   [[503, 615], [74, 1512]]     MFCC\n",
       "2          RF        50  0.735207   [[465, 653], [63, 1523]]     MFCC\n",
       "3          RF       100  0.744453   [[467, 651], [40, 1546]]     MFCC\n",
       "4          RF        10  0.765533  [[508, 490], [144, 1562]]     MFCC\n",
       "5          RF        20  0.728920  [[423, 575], [158, 1548]]     MFCC\n",
       "6          RF        50  0.735577  [[414, 584], [131, 1575]]     MFCC\n",
       "7          RF       100  0.732618  [[398, 600], [123, 1583]]     MFCC\n",
       "8          RF        10  0.786243  [[707, 166], [412, 1419]]     MFCC\n",
       "9          RF        20  0.796598  [[729, 144], [406, 1425]]     MFCC\n",
       "10         RF        50  0.810651  [[722, 151], [361, 1470]]     MFCC\n",
       "11         RF       100  0.813609  [[726, 147], [357, 1474]]     MFCC\n",
       "12         RF        10  0.790311  [[301, 359], [208, 1836]]     MFCC\n",
       "13         RF        20  0.798447  [[294, 366], [179, 1865]]     MFCC\n",
       "14         RF        50  0.811021  [[278, 382], [129, 1915]]     MFCC\n",
       "15         RF       100  0.808062  [[265, 395], [124, 1920]]     MFCC\n",
       "16         RF        10  0.822855  [[338, 243], [236, 1887]]     MFCC\n",
       "17         RF        20  0.863905  [[368, 213], [155, 1968]]     MFCC\n",
       "18         RF        50  0.875000  [[352, 229], [109, 2014]]     MFCC\n",
       "19         RF       100  0.877219  [[355, 226], [106, 2017]]     MFCC\n",
       "20         RF        10  0.773669  [[792, 398], [214, 1300]]     MFCC\n",
       "21         RF        20  0.752589  [[749, 441], [228, 1286]]     MFCC\n",
       "22         RF        50  0.755917  [[741, 449], [211, 1303]]     MFCC\n",
       "23         RF       100  0.758876  [[741, 449], [203, 1311]]     MFCC\n",
       "24         RF        10  0.842086  [[590, 230], [197, 1687]]     MFCC\n",
       "25         RF        20  0.865754  [[584, 236], [127, 1757]]     MFCC\n",
       "26         RF        50  0.865385  [[559, 261], [103, 1781]]     MFCC\n",
       "27         RF       100  0.873891   [[576, 244], [97, 1787]]     MFCC\n",
       "28         RF        10  0.764793  [[376, 391], [245, 1692]]     MFCC\n",
       "29         RF        20  0.786243  [[362, 405], [173, 1764]]     MFCC\n",
       "30         RF        50  0.790311  [[328, 439], [128, 1809]]     MFCC\n",
       "31         RF       100  0.791050  [[310, 457], [108, 1829]]     MFCC\n",
       "32         RF        10  0.759246  [[489, 365], [286, 1564]]     MFCC\n",
       "33         RF        20  0.760355  [[447, 407], [241, 1609]]     MFCC\n",
       "34         RF        50  0.772189  [[450, 404], [212, 1638]]     MFCC\n",
       "35         RF       100  0.783284  [[452, 402], [184, 1666]]     MFCC\n",
       "36         RF        10  0.790973  [[417, 251], [314, 1721]]     MFCC\n",
       "37         RF        20  0.793563  [[388, 280], [278, 1757]]     MFCC\n",
       "38         RF        50  0.819830  [[399, 269], [218, 1817]]     MFCC\n",
       "39         RF       100  0.822420  [[400, 268], [212, 1823]]     MFCC"
      ]
     },
     "execution_count": 46,
     "metadata": {},
     "output_type": "execute_result"
    }
   ],
   "source": [
    "results_rf"
   ]
  },
  {
   "cell_type": "code",
   "execution_count": 47,
   "metadata": {},
   "outputs": [
    {
     "data": {
      "image/png": "[encoded data removed]",
      "text/plain": [
       "<Figure size 432x288 with 1 Axes>"
      ]
     },
     "metadata": {
      "needs_background": "light"
     },
     "output_type": "display_data"
    },
    {
     "data": {
      "text/plain": [
       "[(0.6, 1.0)]"
      ]
     },
     "execution_count": 47,
     "metadata": {},
     "output_type": "execute_result"
    },
    {
     "data": {
      "image/png": "[encoded data removed]",
      "text/plain": [
       "<Figure size 432x288 with 1 Axes>"
      ]
     },
     "metadata": {
      "needs_background": "light"
     },
     "output_type": "display_data"
    }
   ],
   "source": [
    "import seaborn as sns \n",
    "ax = sns.boxplot(x=\"parameter\", y=\"accuracy\", data=results_rf)\n",
    "plt.show()\n",
    "ax = sns.boxplot(x=\"parameter\", y=\"accuracy\", data=results_rf_3)\n",
    "ax.set(ylim=(.60, 1.00))"
   ]
  },
  {
   "cell_type": "code",
   "execution_count": 17,
   "metadata": {},
   "outputs": [
    {
     "name": "stdout",
     "output_type": "stream",
     "text": [
      "0.7920828708842027\n",
      "[[ 419  249]\n",
      " [ 313 1722]]\n"
     ]
    },
    {
     "data": {
      "image/png": "[encoded data removed]",
      "text/plain": [
       "<Figure size 432x288 with 1 Axes>"
      ]
     },
     "metadata": {
      "needs_background": "light"
     },
     "output_type": "display_data"
    },
    {
     "name": "stdout",
     "output_type": "stream",
     "text": [
      "0.8079911209766926\n",
      "[[ 416  252]\n",
      " [ 267 1768]]\n"
     ]
    },
    {
     "data": {
      "image/png": "[encoded data removed]",
      "text/plain": [
       "<Figure size 432x288 with 1 Axes>"
      ]
     },
     "metadata": {
      "needs_background": "light"
     },
     "output_type": "display_data"
    },
    {
     "name": "stdout",
     "output_type": "stream",
     "text": [
      "0.8161302256751757\n",
      "[[ 395  273]\n",
      " [ 224 1811]]\n"
     ]
    },
    {
     "data": {
      "image/png": "[encoded data removed]",
      "text/plain": [
       "<Figure size 432x288 with 1 Axes>"
      ]
     },
     "metadata": {
      "needs_background": "light"
     },
     "output_type": "display_data"
    },
    {
     "name": "stdout",
     "output_type": "stream",
     "text": [
      "0.8205697373288938\n",
      "[[ 394  274]\n",
      " [ 211 1824]]\n"
     ]
    },
    {
     "data": {
      "image/png": "[encoded data removed]",
      "text/plain": [
       "<Figure size 432x288 with 1 Axes>"
      ]
     },
     "metadata": {
      "needs_background": "light"
     },
     "output_type": "display_data"
    }
   ],
   "source": [
    "from sklearn.ensemble import RandomForestClassifier\n",
    "\n",
    "params = [10, 20, 50, 100]\n",
    "\n",
    "for estimators in params:\n",
    "    clf3 = RandomForestClassifier(n_estimators=estimators)\n",
    "\n",
    "    # Fit (=train) the model\n",
    "    clf3.fit(X_train, y_train)\n",
    "    \n",
    "    # save the model to disk\n",
    "    #filename = 'finalized_model_RF_'+str(estimators)+'_VGGish.sav'\n",
    "    #print (filename)\n",
    "    #joblib.dump(clf3, filename)\n",
    "    \n",
    "    # Now lets predict the labels of the test data!\n",
    "    predictions = clf3.predict(X_test)\n",
    "    # We can use sklearn to compute the accuracy score\n",
    "    accuracy = sklearn.metrics.accuracy_score(y_test, predictions)\n",
    "    print(accuracy)\n",
    "    \n",
    "    # lets compute the show the confusion matrix:\n",
    "    cm = sklearn.metrics.confusion_matrix(y_test, predictions)\n",
    "    print(cm)\n",
    "    \n",
    "    plot_cm(cm)"
   ]
  },
  {
   "cell_type": "code",
   "execution_count": 48,
   "metadata": {},
   "outputs": [],
   "source": [
    "# Now lets predict the labels of the test data!\n",
    "predictions = clf3.predict(X_test)"
   ]
  },
  {
   "cell_type": "code",
   "execution_count": 49,
   "metadata": {},
   "outputs": [
    {
     "name": "stdout",
     "output_type": "stream",
     "text": [
      "0.8492622525394825\n"
     ]
    }
   ],
   "source": [
    "# We can use sklearn to compute the accuracy score\n",
    "accuracy = sklearn.metrics.accuracy_score(y_test, predictions)\n",
    "print(accuracy)"
   ]
  },
  {
   "cell_type": "code",
   "execution_count": 50,
   "metadata": {},
   "outputs": [
    {
     "name": "stdout",
     "output_type": "stream",
     "text": [
      "[[2966 1304]\n",
      " [ 729 8488]]\n"
     ]
    }
   ],
   "source": [
    "# lets compute the show the confusion matrix:\n",
    "cm = sklearn.metrics.confusion_matrix(y_test, predictions)\n",
    "print(cm)"
   ]
  },
  {
   "cell_type": "code",
   "execution_count": 51,
   "metadata": {},
   "outputs": [
    {
     "data": {
      "image/png": "[encoded data removed]",
      "text/plain": [
       "<Figure size 432x288 with 1 Axes>"
      ]
     },
     "metadata": {
      "needs_background": "light"
     },
     "output_type": "display_data"
    }
   ],
   "source": [
    "fig, ax = plt.subplots()\n",
    "ax.imshow(cm, interpolation='nearest', cmap='gray')\n",
    "for i, line in enumerate(cm):\n",
    "    for j, l in enumerate(line):\n",
    "        ax.text(j, i, l, size=20, color='green')\n",
    "ax.set_xticks(range(len(cm)))\n",
    "ax.set_xticklabels(labels)\n",
    "ax.set_yticks(range(len(cm)))\n",
    "ax.set_yticklabels(labels)\n",
    "ax.set_ylabel('True label')\n",
    "ax.set_xlabel('Predicted label')\n",
    "plt.show()"
   ]
  },
  {
   "cell_type": "code",
   "execution_count": 52,
   "metadata": {},
   "outputs": [],
   "source": [
    "# Evaluate with Precision, Recall and F-score"
   ]
  },
  {
   "cell_type": "code",
   "execution_count": 53,
   "metadata": {},
   "outputs": [],
   "source": [
    "from sklearn.metrics import precision_recall_curve\n",
    "\n",
    "precision, recall, thresholds = precision_recall_curve(\n",
    "    y_test, predictions)\n"
   ]
  },
  {
   "cell_type": "code",
   "execution_count": 54,
   "metadata": {},
   "outputs": [
    {
     "data": {
      "text/plain": [
       "Text(0.5, 1.0, 'Singing Precision-Recall curve: AP=0.85')"
      ]
     },
     "execution_count": 54,
     "metadata": {},
     "output_type": "execute_result"
    },
    {
     "data": {
      "image/png": "[encoded data removed]",
      "text/plain": [
       "<Figure size 432x288 with 1 Axes>"
      ]
     },
     "metadata": {
      "needs_background": "light"
     },
     "output_type": "display_data"
    }
   ],
   "source": [
    "from inspect import signature\n",
    "from sklearn.metrics import average_precision_score\n",
    "average_precision = average_precision_score(y_test, predictions)\n",
    "\n",
    "# In matplotlib < 1.5, plt.fill_between does not have a 'step' argument\n",
    "step_kwargs = ({'step': 'post'}\n",
    "               if 'step' in signature(plt.fill_between).parameters\n",
    "               else {})\n",
    "plt.step(recall, precision, color='b', alpha=0.2,\n",
    "         where='post')\n",
    "plt.fill_between(recall, precision, alpha=0.2, color='b', **step_kwargs)\n",
    "\n",
    "plt.xlabel('Recall')\n",
    "plt.ylabel('Precision')\n",
    "plt.ylim([0.0, 1.05])\n",
    "plt.xlim([0.0, 1.0])\n",
    "plt.title('Singing Precision-Recall curve: AP={0:0.2f}'.format(\n",
    "          average_precision))\n"
   ]
  },
  {
   "cell_type": "code",
   "execution_count": null,
   "metadata": {},
   "outputs": [],
   "source": []
  },
  {
   "cell_type": "code",
   "execution_count": null,
   "metadata": {},
   "outputs": [],
   "source": []
  },
  {
   "cell_type": "code",
   "execution_count": null,
   "metadata": {},
   "outputs": [],
   "source": []
  },
  {
   "cell_type": "code",
   "execution_count": null,
   "metadata": {},
   "outputs": [],
   "source": []
  },
  {
   "cell_type": "code",
   "execution_count": null,
   "metadata": {},
   "outputs": [],
   "source": []
  },
  {
   "cell_type": "code",
   "execution_count": null,
   "metadata": {},
   "outputs": [],
   "source": []
  },
  {
   "cell_type": "code",
   "execution_count": null,
   "metadata": {},
   "outputs": [],
   "source": []
  }
 ],
 "metadata": {
  "kernelspec": {
   "display_name": "Python 3",
   "language": "python",
   "name": "python3"
  },
  "language_info": {
   "codemirror_mode": {
    "name": "ipython",
    "version": 3
   },
   "file_extension": ".py",
   "mimetype": "text/x-python",
   "name": "python",
   "nbconvert_exporter": "python",
   "pygments_lexer": "ipython3",
   "version": "3.7.3"
  }
 },
 "nbformat": 4,
 "nbformat_minor": 2
}
